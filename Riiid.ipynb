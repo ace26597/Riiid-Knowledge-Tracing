{
  "nbformat": 4,
  "nbformat_minor": 0,
  "metadata": {
    "accelerator": "GPU",
    "colab": {
      "name": "Riiid.ipynb",
      "provenance": [],
      "collapsed_sections": [],
      "authorship_tag": "ABX9TyMc1cdG6taQjF3tWDARlJ6D",
      "include_colab_link": true
    },
    "kernelspec": {
      "display_name": "Python 3",
      "name": "python3"
    },
    "widgets": {
      "application/vnd.jupyter.widget-state+json": {
        "4c273c77a5a64d4296180d111b73498c": {
          "model_module": "@jupyter-widgets/controls",
          "model_name": "HBoxModel",
          "state": {
            "_view_name": "HBoxView",
            "_dom_classes": [],
            "_model_name": "HBoxModel",
            "_view_module": "@jupyter-widgets/controls",
            "_model_module_version": "1.5.0",
            "_view_count": null,
            "_view_module_version": "1.5.0",
            "box_style": "",
            "layout": "IPY_MODEL_5cf51a63115c46f5a338cad12d29d62a",
            "_model_module": "@jupyter-widgets/controls",
            "children": [
              "IPY_MODEL_8263c26d3ea94aef84736a1bb6da940f",
              "IPY_MODEL_a9ddb6ef72924c21857eca653ab7a003"
            ]
          }
        },
        "5cf51a63115c46f5a338cad12d29d62a": {
          "model_module": "@jupyter-widgets/base",
          "model_name": "LayoutModel",
          "state": {
            "_view_name": "LayoutView",
            "grid_template_rows": null,
            "right": null,
            "justify_content": null,
            "_view_module": "@jupyter-widgets/base",
            "overflow": null,
            "_model_module_version": "1.2.0",
            "_view_count": null,
            "flex_flow": null,
            "width": null,
            "min_width": null,
            "border": null,
            "align_items": null,
            "bottom": null,
            "_model_module": "@jupyter-widgets/base",
            "top": null,
            "grid_column": null,
            "overflow_y": null,
            "overflow_x": null,
            "grid_auto_flow": null,
            "grid_area": null,
            "grid_template_columns": null,
            "flex": null,
            "_model_name": "LayoutModel",
            "justify_items": null,
            "grid_row": null,
            "max_height": null,
            "align_content": null,
            "visibility": null,
            "align_self": null,
            "height": null,
            "min_height": null,
            "padding": null,
            "grid_auto_rows": null,
            "grid_gap": null,
            "max_width": null,
            "order": null,
            "_view_module_version": "1.2.0",
            "grid_template_areas": null,
            "object_position": null,
            "object_fit": null,
            "grid_auto_columns": null,
            "margin": null,
            "display": null,
            "left": null
          }
        },
        "8263c26d3ea94aef84736a1bb6da940f": {
          "model_module": "@jupyter-widgets/controls",
          "model_name": "FloatProgressModel",
          "state": {
            "_view_name": "ProgressView",
            "style": "IPY_MODEL_18f758d9f534430a886bded98e9f90de",
            "_dom_classes": [],
            "description": "100%",
            "_model_name": "FloatProgressModel",
            "bar_style": "success",
            "max": 96817414,
            "_view_module": "@jupyter-widgets/controls",
            "_model_module_version": "1.5.0",
            "value": 96817414,
            "_view_count": null,
            "_view_module_version": "1.5.0",
            "orientation": "horizontal",
            "min": 0,
            "description_tooltip": null,
            "_model_module": "@jupyter-widgets/controls",
            "layout": "IPY_MODEL_00c75ecd19454e2d9fe67a96374e3948"
          }
        },
        "a9ddb6ef72924c21857eca653ab7a003": {
          "model_module": "@jupyter-widgets/controls",
          "model_name": "HTMLModel",
          "state": {
            "_view_name": "HTMLView",
            "style": "IPY_MODEL_a81cff484a134b2b8378c0bf262eee4f",
            "_dom_classes": [],
            "description": "",
            "_model_name": "HTMLModel",
            "placeholder": "​",
            "_view_module": "@jupyter-widgets/controls",
            "_model_module_version": "1.5.0",
            "value": " 96817414/96817414 [03:35&lt;00:00, 449748.52it/s]",
            "_view_count": null,
            "_view_module_version": "1.5.0",
            "description_tooltip": null,
            "_model_module": "@jupyter-widgets/controls",
            "layout": "IPY_MODEL_035892d6cb32459fa6bf5d4e233ee875"
          }
        },
        "18f758d9f534430a886bded98e9f90de": {
          "model_module": "@jupyter-widgets/controls",
          "model_name": "ProgressStyleModel",
          "state": {
            "_view_name": "StyleView",
            "_model_name": "ProgressStyleModel",
            "description_width": "initial",
            "_view_module": "@jupyter-widgets/base",
            "_model_module_version": "1.5.0",
            "_view_count": null,
            "_view_module_version": "1.2.0",
            "bar_color": null,
            "_model_module": "@jupyter-widgets/controls"
          }
        },
        "00c75ecd19454e2d9fe67a96374e3948": {
          "model_module": "@jupyter-widgets/base",
          "model_name": "LayoutModel",
          "state": {
            "_view_name": "LayoutView",
            "grid_template_rows": null,
            "right": null,
            "justify_content": null,
            "_view_module": "@jupyter-widgets/base",
            "overflow": null,
            "_model_module_version": "1.2.0",
            "_view_count": null,
            "flex_flow": null,
            "width": null,
            "min_width": null,
            "border": null,
            "align_items": null,
            "bottom": null,
            "_model_module": "@jupyter-widgets/base",
            "top": null,
            "grid_column": null,
            "overflow_y": null,
            "overflow_x": null,
            "grid_auto_flow": null,
            "grid_area": null,
            "grid_template_columns": null,
            "flex": null,
            "_model_name": "LayoutModel",
            "justify_items": null,
            "grid_row": null,
            "max_height": null,
            "align_content": null,
            "visibility": null,
            "align_self": null,
            "height": null,
            "min_height": null,
            "padding": null,
            "grid_auto_rows": null,
            "grid_gap": null,
            "max_width": null,
            "order": null,
            "_view_module_version": "1.2.0",
            "grid_template_areas": null,
            "object_position": null,
            "object_fit": null,
            "grid_auto_columns": null,
            "margin": null,
            "display": null,
            "left": null
          }
        },
        "a81cff484a134b2b8378c0bf262eee4f": {
          "model_module": "@jupyter-widgets/controls",
          "model_name": "DescriptionStyleModel",
          "state": {
            "_view_name": "StyleView",
            "_model_name": "DescriptionStyleModel",
            "description_width": "",
            "_view_module": "@jupyter-widgets/base",
            "_model_module_version": "1.5.0",
            "_view_count": null,
            "_view_module_version": "1.2.0",
            "_model_module": "@jupyter-widgets/controls"
          }
        },
        "035892d6cb32459fa6bf5d4e233ee875": {
          "model_module": "@jupyter-widgets/base",
          "model_name": "LayoutModel",
          "state": {
            "_view_name": "LayoutView",
            "grid_template_rows": null,
            "right": null,
            "justify_content": null,
            "_view_module": "@jupyter-widgets/base",
            "overflow": null,
            "_model_module_version": "1.2.0",
            "_view_count": null,
            "flex_flow": null,
            "width": null,
            "min_width": null,
            "border": null,
            "align_items": null,
            "bottom": null,
            "_model_module": "@jupyter-widgets/base",
            "top": null,
            "grid_column": null,
            "overflow_y": null,
            "overflow_x": null,
            "grid_auto_flow": null,
            "grid_area": null,
            "grid_template_columns": null,
            "flex": null,
            "_model_name": "LayoutModel",
            "justify_items": null,
            "grid_row": null,
            "max_height": null,
            "align_content": null,
            "visibility": null,
            "align_self": null,
            "height": null,
            "min_height": null,
            "padding": null,
            "grid_auto_rows": null,
            "grid_gap": null,
            "max_width": null,
            "order": null,
            "_view_module_version": "1.2.0",
            "grid_template_areas": null,
            "object_position": null,
            "object_fit": null,
            "grid_auto_columns": null,
            "margin": null,
            "display": null,
            "left": null
          }
        },
        "6484f443e18944a4aba95ee02d35649e": {
          "model_module": "@jupyter-widgets/controls",
          "model_name": "HBoxModel",
          "state": {
            "_view_name": "HBoxView",
            "_dom_classes": [],
            "_model_name": "HBoxModel",
            "_view_module": "@jupyter-widgets/controls",
            "_model_module_version": "1.5.0",
            "_view_count": null,
            "_view_module_version": "1.5.0",
            "box_style": "",
            "layout": "IPY_MODEL_222b1ad37f1d4d8ab52c3840c535f2c3",
            "_model_module": "@jupyter-widgets/controls",
            "children": [
              "IPY_MODEL_cda636c25e044dc8b611dd0912ce6a47",
              "IPY_MODEL_3d1ece9e8cd6436bbaa376df8bfb4726"
            ]
          }
        },
        "222b1ad37f1d4d8ab52c3840c535f2c3": {
          "model_module": "@jupyter-widgets/base",
          "model_name": "LayoutModel",
          "state": {
            "_view_name": "LayoutView",
            "grid_template_rows": null,
            "right": null,
            "justify_content": null,
            "_view_module": "@jupyter-widgets/base",
            "overflow": null,
            "_model_module_version": "1.2.0",
            "_view_count": null,
            "flex_flow": null,
            "width": null,
            "min_width": null,
            "border": null,
            "align_items": null,
            "bottom": null,
            "_model_module": "@jupyter-widgets/base",
            "top": null,
            "grid_column": null,
            "overflow_y": null,
            "overflow_x": null,
            "grid_auto_flow": null,
            "grid_area": null,
            "grid_template_columns": null,
            "flex": null,
            "_model_name": "LayoutModel",
            "justify_items": null,
            "grid_row": null,
            "max_height": null,
            "align_content": null,
            "visibility": null,
            "align_self": null,
            "height": null,
            "min_height": null,
            "padding": null,
            "grid_auto_rows": null,
            "grid_gap": null,
            "max_width": null,
            "order": null,
            "_view_module_version": "1.2.0",
            "grid_template_areas": null,
            "object_position": null,
            "object_fit": null,
            "grid_auto_columns": null,
            "margin": null,
            "display": null,
            "left": null
          }
        },
        "cda636c25e044dc8b611dd0912ce6a47": {
          "model_module": "@jupyter-widgets/controls",
          "model_name": "FloatProgressModel",
          "state": {
            "_view_name": "ProgressView",
            "style": "IPY_MODEL_01b25abe0eec458b856d5c70bcc7baff",
            "_dom_classes": [],
            "description": "100%",
            "_model_name": "FloatProgressModel",
            "bar_style": "success",
            "max": 2453886,
            "_view_module": "@jupyter-widgets/controls",
            "_model_module_version": "1.5.0",
            "value": 2453886,
            "_view_count": null,
            "_view_module_version": "1.5.0",
            "orientation": "horizontal",
            "min": 0,
            "description_tooltip": null,
            "_model_module": "@jupyter-widgets/controls",
            "layout": "IPY_MODEL_4635542b03044651a5bd58696bc33656"
          }
        },
        "3d1ece9e8cd6436bbaa376df8bfb4726": {
          "model_module": "@jupyter-widgets/controls",
          "model_name": "HTMLModel",
          "state": {
            "_view_name": "HTMLView",
            "style": "IPY_MODEL_8c103b6ce8694032a63a3b6145897ae9",
            "_dom_classes": [],
            "description": "",
            "_model_name": "HTMLModel",
            "placeholder": "​",
            "_view_module": "@jupyter-widgets/controls",
            "_model_module_version": "1.5.0",
            "value": " 2453886/2453886 [00:05&lt;00:00, 470802.22it/s]",
            "_view_count": null,
            "_view_module_version": "1.5.0",
            "description_tooltip": null,
            "_model_module": "@jupyter-widgets/controls",
            "layout": "IPY_MODEL_1bca3bc466464c7ab2717b6885347f03"
          }
        },
        "01b25abe0eec458b856d5c70bcc7baff": {
          "model_module": "@jupyter-widgets/controls",
          "model_name": "ProgressStyleModel",
          "state": {
            "_view_name": "StyleView",
            "_model_name": "ProgressStyleModel",
            "description_width": "initial",
            "_view_module": "@jupyter-widgets/base",
            "_model_module_version": "1.5.0",
            "_view_count": null,
            "_view_module_version": "1.2.0",
            "bar_color": null,
            "_model_module": "@jupyter-widgets/controls"
          }
        },
        "4635542b03044651a5bd58696bc33656": {
          "model_module": "@jupyter-widgets/base",
          "model_name": "LayoutModel",
          "state": {
            "_view_name": "LayoutView",
            "grid_template_rows": null,
            "right": null,
            "justify_content": null,
            "_view_module": "@jupyter-widgets/base",
            "overflow": null,
            "_model_module_version": "1.2.0",
            "_view_count": null,
            "flex_flow": null,
            "width": null,
            "min_width": null,
            "border": null,
            "align_items": null,
            "bottom": null,
            "_model_module": "@jupyter-widgets/base",
            "top": null,
            "grid_column": null,
            "overflow_y": null,
            "overflow_x": null,
            "grid_auto_flow": null,
            "grid_area": null,
            "grid_template_columns": null,
            "flex": null,
            "_model_name": "LayoutModel",
            "justify_items": null,
            "grid_row": null,
            "max_height": null,
            "align_content": null,
            "visibility": null,
            "align_self": null,
            "height": null,
            "min_height": null,
            "padding": null,
            "grid_auto_rows": null,
            "grid_gap": null,
            "max_width": null,
            "order": null,
            "_view_module_version": "1.2.0",
            "grid_template_areas": null,
            "object_position": null,
            "object_fit": null,
            "grid_auto_columns": null,
            "margin": null,
            "display": null,
            "left": null
          }
        },
        "8c103b6ce8694032a63a3b6145897ae9": {
          "model_module": "@jupyter-widgets/controls",
          "model_name": "DescriptionStyleModel",
          "state": {
            "_view_name": "StyleView",
            "_model_name": "DescriptionStyleModel",
            "description_width": "",
            "_view_module": "@jupyter-widgets/base",
            "_model_module_version": "1.5.0",
            "_view_count": null,
            "_view_module_version": "1.2.0",
            "_model_module": "@jupyter-widgets/controls"
          }
        },
        "1bca3bc466464c7ab2717b6885347f03": {
          "model_module": "@jupyter-widgets/base",
          "model_name": "LayoutModel",
          "state": {
            "_view_name": "LayoutView",
            "grid_template_rows": null,
            "right": null,
            "justify_content": null,
            "_view_module": "@jupyter-widgets/base",
            "overflow": null,
            "_model_module_version": "1.2.0",
            "_view_count": null,
            "flex_flow": null,
            "width": null,
            "min_width": null,
            "border": null,
            "align_items": null,
            "bottom": null,
            "_model_module": "@jupyter-widgets/base",
            "top": null,
            "grid_column": null,
            "overflow_y": null,
            "overflow_x": null,
            "grid_auto_flow": null,
            "grid_area": null,
            "grid_template_columns": null,
            "flex": null,
            "_model_name": "LayoutModel",
            "justify_items": null,
            "grid_row": null,
            "max_height": null,
            "align_content": null,
            "visibility": null,
            "align_self": null,
            "height": null,
            "min_height": null,
            "padding": null,
            "grid_auto_rows": null,
            "grid_gap": null,
            "max_width": null,
            "order": null,
            "_view_module_version": "1.2.0",
            "grid_template_areas": null,
            "object_position": null,
            "object_fit": null,
            "grid_auto_columns": null,
            "margin": null,
            "display": null,
            "left": null
          }
        }
      }
    }
  },
  "cells": [
    {
      "cell_type": "markdown",
      "metadata": {
        "id": "view-in-github",
        "colab_type": "text"
      },
      "source": [
        "<a href=\"https://colab.research.google.com/github/ace26597/Riiid-Knowledge-Tracing/blob/main/Riiid.ipynb\" target=\"_parent\"><img src=\"https://colab.research.google.com/assets/colab-badge.svg\" alt=\"Open In Colab\"/></a>"
      ]
    },
    {
      "cell_type": "markdown",
      "metadata": {
        "id": "iR5kgwj1S5sO"
      },
      "source": [
        "\n",
        "\n",
        "---\n",
        "\n",
        "\n",
        "# Setup\n",
        "\n",
        "\n",
        "---\n",
        "\n",
        "\n",
        "\n",
        "\n",
        "\n"
      ]
    },
    {
      "cell_type": "code",
      "metadata": {
        "id": "TAM8n2OvcV9M",
        "colab": {
          "base_uri": "https://localhost:8080/",
          "height": 85
        },
        "outputId": "f6fd9881-fc9c-4aad-8ef3-e91988987b0f"
      },
      "source": [
        "import pandas as pd\n",
        "import numpy as np\n",
        "import gc\n",
        "from sklearn.metrics import roc_auc_score\n",
        "from collections import defaultdict\n",
        "from tqdm.notebook import tqdm\n",
        "import lightgbm as lgb\n",
        "import matplotlib.pyplot as plt\n",
        "import matplotlib.image as mpimg\n",
        "from tabulate import tabulate\n",
        "import missingno as msno \n",
        "from IPython.display import display_html\n",
        "from PIL import Image\n",
        "import gc\n",
        "import cv2\n",
        "from scipy.stats import pearsonr\n",
        "import tqdm\n",
        "import seaborn as sns\n",
        "\n",
        "from skimage.transform import resize\n",
        "import copy\n",
        "import re\n",
        "\n",
        "import warnings\n",
        "warnings.filterwarnings(\"ignore\", category=DeprecationWarning)\n",
        "warnings.filterwarnings(\"ignore\", category=UserWarning)\n",
        "warnings.filterwarnings(\"ignore\", category=FutureWarning)\n",
        "\n",
        "# Color Palette\n",
        "custom_colors = ['#00FFE2', '#00FDFF', '#00BCFF', '#0082FF', '#8000FF', '#B300FF', '#F400FF']\n",
        "sns.palplot(sns.color_palette(custom_colors))\n",
        "\n",
        "# Set Style\n",
        "sns.set_style(\"whitegrid\")\n",
        "sns.despine(left=True, bottom=True)\n",
        "\n",
        "# Set tick size\n",
        "plt.rc('xtick',labelsize=12)\n",
        "plt.rc('ytick',labelsize=12)"
      ],
      "execution_count": null,
      "outputs": [
        {
          "output_type": "display_data",
          "data": {
            "image/png": "[encoded data removed]",
            "text/plain": [
              "<Figure size 504x72 with 1 Axes>"
            ]
          },
          "metadata": {
            "tags": [],
            "needs_background": "light"
          }
        }
      ]
    },
    {
      "cell_type": "code",
      "metadata": {
        "id": "wGWgcIw2YS7l",
        "colab": {
          "base_uri": "https://localhost:8080/"
        },
        "outputId": "4ff6c95e-933c-49bc-aeb7-011f1b097e71"
      },
      "source": [
        "!python --version"
      ],
      "execution_count": null,
      "outputs": [
        {
          "output_type": "stream",
          "text": [
            "Python 3.6.12\n"
          ],
          "name": "stdout"
        }
      ]
    },
    {
      "cell_type": "code",
      "metadata": {
        "id": "1Wf_0aXcYVmj",
        "colab": {
          "base_uri": "https://localhost:8080/"
        },
        "outputId": "dba57370-0f20-4329-e808-ac43bac21a26"
      },
      "source": [
        "!lsb_release -a"
      ],
      "execution_count": null,
      "outputs": [
        {
          "output_type": "stream",
          "text": [
            "No LSB modules are available.\n",
            "Distributor ID:\tUbuntu\n",
            "Description:\tUbuntu 18.04.5 LTS\n",
            "Release:\t18.04\n",
            "Codename:\tbionic\n"
          ],
          "name": "stdout"
        }
      ]
    },
    {
      "cell_type": "code",
      "metadata": {
        "id": "yJugUjpbPHe6",
        "colab": {
          "base_uri": "https://localhost:8080/"
        },
        "outputId": "cb4d0a8d-605f-48f8-e224-0a4683607bda"
      },
      "source": [
        "# Check CUDA/cuDNN Version\n",
        "!nvcc -V && which nvcc\n",
        "!nvidia-smi"
      ],
      "execution_count": null,
      "outputs": [
        {
          "output_type": "stream",
          "text": [
            "nvcc: NVIDIA (R) Cuda compiler driver\n",
            "Copyright (c) 2005-2019 NVIDIA Corporation\n",
            "Built on Sun_Jul_28_19:07:16_PDT_2019\n",
            "Cuda compilation tools, release 10.1, V10.1.243\n",
            "/usr/local/cuda/bin/nvcc\n",
            "Wed Dec  9 21:08:14 2020       \n",
            "+-----------------------------------------------------------------------------+\n",
            "| NVIDIA-SMI 455.45.01    Driver Version: 418.67       CUDA Version: 10.1     |\n",
            "|-------------------------------+----------------------+----------------------+\n",
            "| GPU  Name        Persistence-M| Bus-Id        Disp.A | Volatile Uncorr. ECC |\n",
            "| Fan  Temp  Perf  Pwr:Usage/Cap|         Memory-Usage | GPU-Util  Compute M. |\n",
            "|                               |                      |               MIG M. |\n",
            "|===============================+======================+======================|\n",
            "|   0  Tesla T4            Off  | 00000000:00:04.0 Off |                    0 |\n",
            "| N/A   43C    P8     9W /  70W |      0MiB / 15079MiB |      0%      Default |\n",
            "|                               |                      |                 ERR! |\n",
            "+-------------------------------+----------------------+----------------------+\n",
            "                                                                               \n",
            "+-----------------------------------------------------------------------------+\n",
            "| Processes:                                                                  |\n",
            "|  GPU   GI   CI        PID   Type   Process name                  GPU Memory |\n",
            "|        ID   ID                                                   Usage      |\n",
            "|=============================================================================|\n",
            "|  No running processes found                                                 |\n",
            "+-----------------------------------------------------------------------------+\n"
          ],
          "name": "stdout"
        }
      ]
    },
    {
      "cell_type": "code",
      "metadata": {
        "id": "t7Aux8JlFDvW",
        "colab": {
          "base_uri": "https://localhost:8080/"
        },
        "outputId": "18325f8e-3bff-492e-ed2a-66432a49b128"
      },
      "source": [
        "!git clone https://github.com/rapidsai/rapidsai-csp-utils.git\n",
        "!bash rapidsai-csp-utils/colab/rapids-colab.sh stable\n",
        "\n",
        "import sys, os\n",
        "\n",
        "dist_package_index = sys.path.index('/usr/local/lib/python3.6/dist-packages')\n",
        "sys.path = sys.path[:dist_package_index] + ['/usr/local/lib/python3.6/site-packages'] + sys.path[dist_package_index:]\n",
        "sys.path\n",
        "exec(open('rapidsai-csp-utils/colab/update_modules.py').read(), globals())"
      ],
      "execution_count": null,
      "outputs": [
        {
          "output_type": "stream",
          "text": [
            "fatal: destination path 'rapidsai-csp-utils' already exists and is not an empty directory.\n",
            "PLEASE READ\n",
            "********************************************************************************************************\n",
            "Changes:\n",
            "1. IMPORTANT CHANGES: RAPIDS on Colab will be pegged to 0.14 Stable until further notice.\n",
            "2. Default stable version is now 0.14.  Nightly will redirect to 0.14.\n",
            "3. You can now declare your RAPIDSAI version as a CLI option and skip the user prompts (ex: '0.14' or '0.15', between 0.13 to 0.14, without the quotes): \n",
            "        \"!bash rapidsai-csp-utils/colab/rapids-colab.sh <version/label>\"\n",
            "        Examples: '!bash rapidsai-csp-utils/colab/rapids-colab.sh 0.14', or '!bash rapidsai-csp-utils/colab/rapids-colab.sh stable', or '!bash rapidsai-csp-utils/colab/rapids-colab.sh s'\n",
            "                  '!bash rapidsai-csp-utils/colab/rapids-colab.sh 0.15, or '!bash rapidsai-csp-utils/colab/rapids-colab.sh nightly', or '!bash rapidsai-csp-utils/colab/rapids-colab.sh n'\n",
            "Enjoy using RAPIDS!  If you have any issues with or suggestions for RAPIDSAI on Colab, please create a bug request on https://github.com/rapidsai/rapidsai-csp-utils/issues/new.  Thanks!\n",
            "Starting to prep Colab for install RAPIDS Version 0.14 stable\n",
            "Checking for GPU type:\n",
            "***********************************************************************\n",
            "Woo! Your instance has the right kind of GPU, a 'Tesla T4'!\n",
            "***********************************************************************\n",
            "\n",
            "\n",
            "************************************************\n",
            "Your Google Colab instance has RAPIDS installed!\n",
            "************************************************\n",
            "***********************************************************************\n",
            "Let us check on those pyarrow and cffi versions...\n",
            "***********************************************************************\n",
            "\n",
            "You're don't have pyarrow.\n",
            "unloaded cffi 1.14.3\n",
            "loaded cffi 1.14.4\n"
          ],
          "name": "stdout"
        }
      ]
    },
    {
      "cell_type": "code",
      "metadata": {
        "id": "Jcb8mP02jXMd",
        "colab": {
          "resources": {
            "http://localhost:8080/nbextensions/google.colab/files.js": {
              "data": "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",
              "ok": true,
              "headers": [
                [
                  "content-type",
                  "application/javascript"
                ]
              ],
              "status": 200,
              "status_text": ""
            }
          },
          "base_uri": "https://localhost:8080/",
          "height": 73
        },
        "outputId": "d5329890-dc9f-4625-cf90-6145dd8afcb9"
      },
      "source": [
        "from google.colab import files\n",
        "uploaded = files.upload()"
      ],
      "execution_count": null,
      "outputs": [
        {
          "output_type": "display_data",
          "data": {
            "text/html": [
              "\n",
              "     <input type=\"file\" id=\"files-1281e53c-31a1-4bb1-b769-1127ee78fd64\" name=\"files[]\" multiple disabled\n",
              "        style=\"border:none\" />\n",
              "     <output id=\"result-1281e53c-31a1-4bb1-b769-1127ee78fd64\">\n",
              "      Upload widget is only available when the cell has been executed in the\n",
              "      current browser session. Please rerun this cell to enable.\n",
              "      </output>\n",
              "      <script src=\"/nbextensions/google.colab/files.js\"></script> "
            ],
            "text/plain": [
              "<IPython.core.display.HTML object>"
            ]
          },
          "metadata": {
            "tags": []
          }
        },
        {
          "output_type": "stream",
          "text": [
            "Saving kaggle.json to kaggle (2).json\n"
          ],
          "name": "stdout"
        }
      ]
    },
    {
      "cell_type": "code",
      "metadata": {
        "id": "Vp5Vcta5jFxF",
        "colab": {
          "base_uri": "https://localhost:8080/"
        },
        "outputId": "2cbee9d7-8a8d-4830-c164-fdcb3f9cc87f"
      },
      "source": [
        "!mkdir -p ~/.kaggle\n",
        "!cp kaggle.json ~/.kaggle/\n",
        "!chmod 600 ~/.kaggle/kaggle.json\n",
        "!kaggle competitions download -c riiid-test-answer-prediction"
      ],
      "execution_count": null,
      "outputs": [
        {
          "output_type": "stream",
          "text": [
            "Warning: Looks like you're using an outdated API Version, please consider updating (server 1.5.10 / client 1.5.4)\n",
            "__init__.py: Skipping, found more recently modified local copy (use --force to force download)\n",
            "competition.cpython-37m-x86_64-linux-gnu.so: Skipping, found more recently modified local copy (use --force to force download)\n",
            "example_sample_submission.csv: Skipping, found more recently modified local copy (use --force to force download)\n",
            "Downloading train.csv.zip to /content\n",
            "100% 1.29G/1.29G [00:06<00:00, 202MB/s]\n",
            "100% 1.29G/1.29G [00:06<00:00, 223MB/s]\n",
            "example_test.csv: Skipping, found more recently modified local copy (use --force to force download)\n",
            "lectures.csv: Skipping, found more recently modified local copy (use --force to force download)\n",
            "questions.csv: Skipping, found more recently modified local copy (use --force to force download)\n"
          ],
          "name": "stdout"
        }
      ]
    },
    {
      "cell_type": "code",
      "metadata": {
        "id": "fuDlaKc7ehiD",
        "colab": {
          "base_uri": "https://localhost:8080/"
        },
        "outputId": "b55321b8-5e01-40f3-ea7a-ec6de12588dc"
      },
      "source": [
        "!unzip train.csv.zip\n",
        "!rm train.csv.zip"
      ],
      "execution_count": null,
      "outputs": [
        {
          "output_type": "stream",
          "text": [
            "Archive:  train.csv.zip\n",
            "replace train.csv? [y]es, [n]o, [A]ll, [N]one, [r]ename: n\n"
          ],
          "name": "stdout"
        }
      ]
    },
    {
      "cell_type": "code",
      "metadata": {
        "id": "zH66CyALI7GD",
        "colab": {
          "base_uri": "https://localhost:8080/"
        },
        "outputId": "2ddd11dc-cb79-41e6-f191-8500fec96b57"
      },
      "source": [
        "!pip install GPUtil\n",
        "\n",
        "import torch\n",
        "from GPUtil import showUtilization as gpu_usage\n",
        "from numba import cuda\n",
        "\n",
        "def free_gpu_cache():\n",
        "    print(\"Initial GPU Usage\")\n",
        "    gpu_usage()                             \n",
        "    torch.cuda.empty_cache()\n",
        "    cuda.select_device(0)\n",
        "    cuda.close()\n",
        "    cuda.select_device(0)\n",
        "    print(\"GPU Usage after emptying the cache\")\n",
        "    gpu_usage()\n",
        "\n",
        "free_gpu_cache()"
      ],
      "execution_count": null,
      "outputs": [
        {
          "output_type": "stream",
          "text": [
            "Requirement already satisfied: GPUtil in /usr/local/lib/python3.6/site-packages (1.4.0)\n",
            "Initial GPU Usage\n",
            "| ID | GPU | MEM |\n",
            "------------------\n",
            "|  0 |  0% |  0% |\n",
            "GPU Usage after emptying the cache\n",
            "| ID | GPU | MEM |\n",
            "------------------\n",
            "|  0 |  4% |  1% |\n"
          ],
          "name": "stdout"
        }
      ]
    },
    {
      "cell_type": "code",
      "metadata": {
        "id": "gMTMRoZbhH_w",
        "colab": {
          "base_uri": "https://localhost:8080/"
        },
        "outputId": "b4e410ed-60ec-423f-9469-f2f2c8f811e8"
      },
      "source": [
        "train = dask_cudf.from_cudf(cudf.read_csv('train.csv',\n",
        "                          dtype={'row_id': 'int64',\n",
        "                          'timestamp': 'int64',\n",
        "                          'user_id': 'int32',\n",
        "                          'content_id': 'int16',\n",
        "                          'content_type_id': 'int8',\n",
        "                          'task_container_id': 'int16',\n",
        "                          'user_answer': 'int8',\n",
        "                          'answered_correctly':'int8',\n",
        "                          'prior_question_elapsed_time': 'float32',\n",
        "                          'prior_question_had_explanation': 'boolean'}\n",
        "                   ),npartitions=6).compute()\n",
        "print(train.shape)"
      ],
      "execution_count": null,
      "outputs": [
        {
          "output_type": "stream",
          "text": [
            "(101230332, 10)\n"
          ],
          "name": "stdout"
        }
      ]
    },
    {
      "cell_type": "markdown",
      "metadata": {
        "id": "TKB0X7ktTCZc"
      },
      "source": [
        "\n",
        "\n",
        "---\n",
        "\n",
        "# Data Exploration \n",
        "\n",
        "---\n",
        "\n"
      ]
    },
    {
      "cell_type": "code",
      "metadata": {
        "id": "V8El8B2dsCW4",
        "colab": {
          "base_uri": "https://localhost:8080/",
          "height": 573
        },
        "outputId": "7b37c903-27d6-4fef-9c9a-b9ee5887384d"
      },
      "source": [
        "print(train.head())\n",
        "print(train.isnull().sum())\n",
        "cols = train.columns\n",
        "for col in cols: \n",
        "    print('Unique values :',{col,train[col].nunique()})\n",
        "\n",
        "train.describe().T\n",
        "\n",
        "\"\"\"print(lectures.head())\n",
        "print(lectures.isnull().sum())\n",
        "print(lectures.info())\n",
        "cols = lectures.columns\n",
        "for col in cols: \n",
        "    print('Unique values in :',{col,lectures[col].nunique()})\n",
        "\n",
        "lectures.describe().T\n",
        "\n",
        "print(questions.head())\n",
        "print(questions.isnull().sum())\n",
        "print(questions.info())\n",
        "cols = questions.columns\n",
        "for col in cols: \n",
        "    print('Unique values in :',{col,questions[col].nunique()})\n",
        "\n",
        "questions.describe().T\"\"\""
      ],
      "execution_count": null,
      "outputs": [
        {
          "output_type": "stream",
          "text": [
            "   row_id  timestamp  ...  prior_question_elapsed_time  prior_question_had_explanation\n",
            "0       0          0  ...                         null                            null\n",
            "1       1      56943  ...                      37000.0                           False\n",
            "2       2     118363  ...                      55000.0                           False\n",
            "3       3     131167  ...                      19000.0                           False\n",
            "4       4     137965  ...                      11000.0                           False\n",
            "\n",
            "[5 rows x 10 columns]\n",
            "row_id                                  0\n",
            "timestamp                               0\n",
            "user_id                                 0\n",
            "content_id                              0\n",
            "content_type_id                         0\n",
            "task_container_id                       0\n",
            "user_answer                             0\n",
            "answered_correctly                      0\n",
            "prior_question_elapsed_time       2351538\n",
            "prior_question_had_explanation     392506\n",
            "dtype: int64\n",
            "Unique values : {101230332, 'row_id'}\n",
            "Unique values : {'timestamp', 72821015}\n",
            "Unique values : {393656, 'user_id'}\n",
            "Unique values : {'content_id', 13782}\n",
            "Unique values : {2, 'content_type_id'}\n",
            "Unique values : {'task_container_id', 10000}\n",
            "Unique values : {'user_answer', 5}\n",
            "Unique values : {'answered_correctly', 3}\n",
            "Unique values : {3258, 'prior_question_elapsed_time'}\n",
            "Unique values : {2, 'prior_question_had_explanation'}\n"
          ],
          "name": "stdout"
        },
        {
          "output_type": "execute_result",
          "data": {
            "application/vnd.google.colaboratory.intrinsic+json": {
              "type": "string"
            },
            "text/plain": [
              "\"print(lectures.head())\\nprint(lectures.isnull().sum())\\nprint(lectures.info())\\ncols = lectures.columns\\nfor col in cols: \\n    print('Unique values in :',{col,lectures[col].nunique()})\\n\\nlectures.describe().T\\n\\nprint(questions.head())\\nprint(questions.isnull().sum())\\nprint(questions.info())\\ncols = questions.columns\\nfor col in cols: \\n    print('Unique values in :',{col,questions[col].nunique()})\\n\\nquestions.describe().T\""
            ]
          },
          "metadata": {
            "tags": []
          },
          "execution_count": 17
        }
      ]
    },
    {
      "cell_type": "markdown",
      "metadata": {
        "id": "7rhJ2L5SS4n4"
      },
      "source": [
        "\n",
        "\n",
        "---\n",
        "\n",
        "# Data Analysis\n",
        "\n",
        "---\n",
        "\n"
      ]
    },
    {
      "cell_type": "code",
      "metadata": {
        "colab": {
          "base_uri": "https://localhost:8080/",
          "height": 249
        },
        "id": "IbD-M-6rVfEK",
        "outputId": "c31a9c2e-2151-4ab6-9cf7-1e86dbcb6e98"
      },
      "source": [
        "# Data Information\r\n",
        "print(\"Rows: {:,}\".format(len(train)), \"\\n\" +\r\n",
        "      \"Columns: {}\".format(len(train.columns)))\r\n",
        "\r\n",
        "# Find Missing Data if any\r\n",
        "total = len(train)\r\n",
        "\r\n",
        "# Fill in missing values with \"-1\"\r\n",
        "train[\"prior_question_elapsed_time\"] = train[\"prior_question_elapsed_time\"].fillna(-1)\r\n",
        "train[\"prior_question_had_explanation\"] = train[\"prior_question_had_explanation\"].fillna(0)\r\n",
        "\r\n",
        "train.head()"
      ],
      "execution_count": null,
      "outputs": [
        {
          "output_type": "stream",
          "text": [
            "Rows: 99,271,300 \n",
            "Columns: 10\n"
          ],
          "name": "stdout"
        },
        {
          "output_type": "execute_result",
          "data": {
            "text/html": [
              "<div>\n",
              "<style scoped>\n",
              "    .dataframe tbody tr th:only-of-type {\n",
              "        vertical-align: middle;\n",
              "    }\n",
              "\n",
              "    .dataframe tbody tr th {\n",
              "        vertical-align: top;\n",
              "    }\n",
              "\n",
              "    .dataframe thead th {\n",
              "        text-align: right;\n",
              "    }\n",
              "</style>\n",
              "<table border=\"1\" class=\"dataframe\">\n",
              "  <thead>\n",
              "    <tr style=\"text-align: right;\">\n",
              "      <th></th>\n",
              "      <th>row_id</th>\n",
              "      <th>timestamp</th>\n",
              "      <th>user_id</th>\n",
              "      <th>content_id</th>\n",
              "      <th>content_type_id</th>\n",
              "      <th>task_container_id</th>\n",
              "      <th>user_answer</th>\n",
              "      <th>answered_correctly</th>\n",
              "      <th>prior_question_elapsed_time</th>\n",
              "      <th>prior_question_had_explanation</th>\n",
              "    </tr>\n",
              "  </thead>\n",
              "  <tbody>\n",
              "    <tr>\n",
              "      <th>0</th>\n",
              "      <td>0</td>\n",
              "      <td>0</td>\n",
              "      <td>115</td>\n",
              "      <td>5692</td>\n",
              "      <td>0</td>\n",
              "      <td>1</td>\n",
              "      <td>3</td>\n",
              "      <td>1</td>\n",
              "      <td>-1.0</td>\n",
              "      <td>True</td>\n",
              "    </tr>\n",
              "    <tr>\n",
              "      <th>1</th>\n",
              "      <td>46</td>\n",
              "      <td>0</td>\n",
              "      <td>124</td>\n",
              "      <td>7900</td>\n",
              "      <td>0</td>\n",
              "      <td>0</td>\n",
              "      <td>0</td>\n",
              "      <td>1</td>\n",
              "      <td>-1.0</td>\n",
              "      <td>True</td>\n",
              "    </tr>\n",
              "    <tr>\n",
              "      <th>2</th>\n",
              "      <td>76</td>\n",
              "      <td>0</td>\n",
              "      <td>2746</td>\n",
              "      <td>5273</td>\n",
              "      <td>0</td>\n",
              "      <td>0</td>\n",
              "      <td>1</td>\n",
              "      <td>0</td>\n",
              "      <td>-1.0</td>\n",
              "      <td>True</td>\n",
              "    </tr>\n",
              "    <tr>\n",
              "      <th>3</th>\n",
              "      <td>96</td>\n",
              "      <td>0</td>\n",
              "      <td>5382</td>\n",
              "      <td>5000</td>\n",
              "      <td>0</td>\n",
              "      <td>0</td>\n",
              "      <td>0</td>\n",
              "      <td>1</td>\n",
              "      <td>-1.0</td>\n",
              "      <td>True</td>\n",
              "    </tr>\n",
              "    <tr>\n",
              "      <th>4</th>\n",
              "      <td>224</td>\n",
              "      <td>0</td>\n",
              "      <td>8623</td>\n",
              "      <td>3915</td>\n",
              "      <td>0</td>\n",
              "      <td>0</td>\n",
              "      <td>3</td>\n",
              "      <td>1</td>\n",
              "      <td>-1.0</td>\n",
              "      <td>True</td>\n",
              "    </tr>\n",
              "  </tbody>\n",
              "</table>\n",
              "</div>"
            ],
            "text/plain": [
              "   row_id  ...  prior_question_had_explanation\n",
              "0       0  ...                            True\n",
              "1      46  ...                            True\n",
              "2      76  ...                            True\n",
              "3      96  ...                            True\n",
              "4     224  ...                            True\n",
              "\n",
              "[5 rows x 10 columns]"
            ]
          },
          "metadata": {
            "tags": []
          },
          "execution_count": 39
        }
      ]
    },
    {
      "cell_type": "code",
      "metadata": {
        "id": "ZknhfCGwW-dU"
      },
      "source": [
        "def distplot_features(df, feature, title, color = custom_colors[4], categorical=True):\r\n",
        "    '''Takes a column from the GPU dataframe and plots the distribution (after count).'''\r\n",
        "    \r\n",
        "    if categorical:\r\n",
        "        values = cupy.asnumpy(df[feature].value_counts().values)\r\n",
        "    else:\r\n",
        "        values = cupy.asnumpy(df[feature].values)\r\n",
        "        \r\n",
        "    print('Mean: {:,}'.format(np.mean(values)), \"\\n\"\r\n",
        "          'Median: {:,}'.format(np.median(values)), \"\\n\"\r\n",
        "          'Max: {:,}'.format(np.max(values)))\r\n",
        "\r\n",
        "    \r\n",
        "    plt.figure(figsize = (18, 3))\r\n",
        "    \r\n",
        "    if categorical:\r\n",
        "        sns.distplot(values, hist=False, color = color, kde_kws = {'lw':3})\r\n",
        "    else:\r\n",
        "        # To speed up the process\r\n",
        "        sns.distplot(values[::250000], hist=False, color = color, kde_kws = {'lw':3})\r\n",
        "    \r\n",
        "    plt.title(title, fontsize=15)\r\n",
        "    plt.show();\r\n",
        "    \r\n",
        "    del values\r\n",
        "    gc.collect()"
      ],
      "execution_count": null,
      "outputs": []
    },
    {
      "cell_type": "code",
      "metadata": {
        "id": "Lx2O1WWFXA9Q"
      },
      "source": [
        "def barplot_features(df, feature, title, palette = custom_colors[2:]):\r\n",
        "    '''Takes the numerical columns (with less than 10 categories) and plots the barplot.'''\r\n",
        "    \r\n",
        "    # We need to extract both the name of the category and the no. of appearences\r\n",
        "    index = cupy.asnumpy(df[feature].value_counts().reset_index()[\"index\"].values)\r\n",
        "    values = cupy.asnumpy(df[feature].value_counts().reset_index()[feature].values) \r\n",
        "\r\n",
        "    plt.figure(figsize = (18, 3))\r\n",
        "    sns.barplot(x = index, y = values, palette = custom_colors[2:])\r\n",
        "    plt.title(title, fontsize=15)\r\n",
        "    plt.show();\r\n",
        "    \r\n",
        "    del index, values\r\n",
        "    gc.collect()"
      ],
      "execution_count": null,
      "outputs": []
    },
    {
      "cell_type": "code",
      "metadata": {
        "colab": {
          "base_uri": "https://localhost:8080/",
          "height": 564
        },
        "id": "s-nqFeaNXC16",
        "outputId": "564de39c-8662-463f-bf81-f0ac0a5582e8"
      },
      "source": [
        "numerical_features = ['timestamp', 'prior_question_elapsed_time']\r\n",
        "\r\n",
        "for feature in numerical_features:\r\n",
        "    distplot_features(train, feature=feature, title = feature + \" distribution\", color = custom_colors[1], categorical=False)"
      ],
      "execution_count": null,
      "outputs": [
        {
          "output_type": "stream",
          "text": [
            "Mean: 7,703,643,654.326523 \n",
            "Median: 2,674,233,764.5 \n",
            "Max: 87,425,772,049\n"
          ],
          "name": "stdout"
        },
        {
          "output_type": "display_data",
          "data": {
            "image/png": "[encoded data removed]",
            "text/plain": [
              "<Figure size 1296x216 with 1 Axes>"
            ]
          },
          "metadata": {
            "tags": []
          }
        },
        {
          "output_type": "stream",
          "text": [
            "Mean: 24,833.234375 \n",
            "Median: 21,000.0 \n",
            "Max: 300,000.0\n"
          ],
          "name": "stdout"
        },
        {
          "output_type": "display_data",
          "data": {
            "image/png": "[encoded data removed]",
            "text/plain": [
              "<Figure size 1296x216 with 1 Axes>"
            ]
          },
          "metadata": {
            "tags": []
          }
        }
      ]
    },
    {
      "cell_type": "code",
      "metadata": {
        "colab": {
          "base_uri": "https://localhost:8080/",
          "height": 814
        },
        "id": "Hn6bhptFXEIT",
        "outputId": "3a550ce9-8b46-4a4a-b65f-37320c0d9cfa"
      },
      "source": [
        "categorical_features = ['user_id', 'content_id', 'task_container_id']\r\n",
        "\r\n",
        "for feature in categorical_features:\r\n",
        "    distplot_features(train, feature=feature, title = feature + \" countplot distribution\", color = custom_colors[4], categorical=True)"
      ],
      "execution_count": null,
      "outputs": [
        {
          "output_type": "stream",
          "text": [
            "Mean: 257.1542971528441 \n",
            "Median: 41.0 \n",
            "Max: 17,917\n"
          ],
          "name": "stdout"
        },
        {
          "output_type": "display_data",
          "data": {
            "image/png": "[encoded data removed]",
            "text/plain": [
              "<Figure size 1296x216 with 1 Axes>"
            ]
          },
          "metadata": {
            "tags": []
          }
        },
        {
          "output_type": "stream",
          "text": [
            "Mean: 7,345.111885067479 \n",
            "Median: 4,728.5 \n",
            "Max: 213,605\n"
          ],
          "name": "stdout"
        },
        {
          "output_type": "display_data",
          "data": {
            "image/png": "[encoded data removed]",
            "text/plain": [
              "<Figure size 1296x216 with 1 Axes>"
            ]
          },
          "metadata": {
            "tags": []
          }
        },
        {
          "output_type": "stream",
          "text": [
            "Mean: 10,123.0332 \n",
            "Median: 1,318.0 \n",
            "Max: 804,285\n"
          ],
          "name": "stdout"
        },
        {
          "output_type": "display_data",
          "data": {
            "image/png": "[encoded data removed]",
            "text/plain": [
              "<Figure size 1296x216 with 1 Axes>"
            ]
          },
          "metadata": {
            "tags": []
          }
        }
      ]
    },
    {
      "cell_type": "code",
      "metadata": {
        "colab": {
          "base_uri": "https://localhost:8080/",
          "height": 877
        },
        "id": "GUeRoljbXGBI",
        "outputId": "cddb8111-1845-4ba4-dac3-a02fc4d9852c"
      },
      "source": [
        "categorical_for_bar = ['content_type_id', 'user_answer', \r\n",
        "                       'answered_correctly', 'prior_question_had_explanation']\r\n",
        "\r\n",
        "for feature in categorical_for_bar:\r\n",
        "    barplot_features(train, feature=feature, title = feature + \" barplot\")"
      ],
      "execution_count": null,
      "outputs": [
        {
          "output_type": "display_data",
          "data": {
            "image/png": "[encoded data removed]",
            "text/plain": [
              "<Figure size 1296x216 with 1 Axes>"
            ]
          },
          "metadata": {
            "tags": []
          }
        },
        {
          "output_type": "display_data",
          "data": {
            "image/png": "[encoded data removed]",
            "text/plain": [
              "<Figure size 1296x216 with 1 Axes>"
            ]
          },
          "metadata": {
            "tags": []
          }
        },
        {
          "output_type": "display_data",
          "data": {
            "image/png": "[encoded data removed]",
            "text/plain": [
              "<Figure size 1296x216 with 1 Axes>"
            ]
          },
          "metadata": {
            "tags": []
          }
        },
        {
          "output_type": "display_data",
          "data": {
            "image/png": "[encoded data removed]",
            "text/plain": [
              "<Figure size 1296x216 with 1 Axes>"
            ]
          },
          "metadata": {
            "tags": []
          }
        }
      ]
    },
    {
      "cell_type": "code",
      "metadata": {
        "colab": {
          "base_uri": "https://localhost:8080/",
          "height": 246
        },
        "id": "nfQCeHj9Yt-8",
        "outputId": "a08e8302-653d-4423-bd84-6b3ca4960193"
      },
      "source": [
        "questions = cudf.read_csv('questions.csv')\r\n",
        "\r\n",
        "# Data Information\r\n",
        "print(\"Rows: {:,}\".format(len(questions)), \"\\n\" +\r\n",
        "      \"Columns: {}\".format(len(questions.columns)))\r\n",
        "\r\n",
        "# Find Missing Data if any\r\n",
        "total = len(questions)\r\n",
        "\r\n",
        "for column in questions.columns:\r\n",
        "    if questions[column].isna().sum() != 0:\r\n",
        "        print(\"{} has: {:,} ({:.2}%) missing values.\".format(column, questions[column].isna().sum(), \r\n",
        "                                                             (questions[column].isna().sum()/total)*100))\r\n",
        "        \r\n",
        "        \r\n",
        "# Fill in missing values with \"-1\"\r\n",
        "questions[\"tags\"] = questions[\"tags\"].fillna(-1)\r\n",
        "\r\n",
        "questions.head()"
      ],
      "execution_count": null,
      "outputs": [
        {
          "output_type": "stream",
          "text": [
            "Rows: 13,523 \n",
            "Columns: 5\n",
            "tags has: 1 (0.0074%) missing values.\n"
          ],
          "name": "stdout"
        },
        {
          "output_type": "execute_result",
          "data": {
            "text/html": [
              "<div>\n",
              "<style scoped>\n",
              "    .dataframe tbody tr th:only-of-type {\n",
              "        vertical-align: middle;\n",
              "    }\n",
              "\n",
              "    .dataframe tbody tr th {\n",
              "        vertical-align: top;\n",
              "    }\n",
              "\n",
              "    .dataframe thead th {\n",
              "        text-align: right;\n",
              "    }\n",
              "</style>\n",
              "<table border=\"1\" class=\"dataframe\">\n",
              "  <thead>\n",
              "    <tr style=\"text-align: right;\">\n",
              "      <th></th>\n",
              "      <th>question_id</th>\n",
              "      <th>bundle_id</th>\n",
              "      <th>correct_answer</th>\n",
              "      <th>part</th>\n",
              "      <th>tags</th>\n",
              "    </tr>\n",
              "  </thead>\n",
              "  <tbody>\n",
              "    <tr>\n",
              "      <th>0</th>\n",
              "      <td>0</td>\n",
              "      <td>0</td>\n",
              "      <td>0</td>\n",
              "      <td>1</td>\n",
              "      <td>51 131 162 38</td>\n",
              "    </tr>\n",
              "    <tr>\n",
              "      <th>1</th>\n",
              "      <td>1</td>\n",
              "      <td>1</td>\n",
              "      <td>1</td>\n",
              "      <td>1</td>\n",
              "      <td>131 36 81</td>\n",
              "    </tr>\n",
              "    <tr>\n",
              "      <th>2</th>\n",
              "      <td>2</td>\n",
              "      <td>2</td>\n",
              "      <td>0</td>\n",
              "      <td>1</td>\n",
              "      <td>131 101 162 92</td>\n",
              "    </tr>\n",
              "    <tr>\n",
              "      <th>3</th>\n",
              "      <td>3</td>\n",
              "      <td>3</td>\n",
              "      <td>0</td>\n",
              "      <td>1</td>\n",
              "      <td>131 149 162 29</td>\n",
              "    </tr>\n",
              "    <tr>\n",
              "      <th>4</th>\n",
              "      <td>4</td>\n",
              "      <td>4</td>\n",
              "      <td>3</td>\n",
              "      <td>1</td>\n",
              "      <td>131 5 162 38</td>\n",
              "    </tr>\n",
              "  </tbody>\n",
              "</table>\n",
              "</div>"
            ],
            "text/plain": [
              "   question_id  bundle_id  correct_answer  part            tags\n",
              "0            0          0               0     1   51 131 162 38\n",
              "1            1          1               1     1       131 36 81\n",
              "2            2          2               0     1  131 101 162 92\n",
              "3            3          3               0     1  131 149 162 29\n",
              "4            4          4               3     1    131 5 162 38"
            ]
          },
          "metadata": {
            "tags": []
          },
          "execution_count": 41
        }
      ]
    },
    {
      "cell_type": "code",
      "metadata": {
        "colab": {
          "base_uri": "https://localhost:8080/",
          "height": 447
        },
        "id": "VjG1iq1GY2Wr",
        "outputId": "9e903779-ce37-42bc-fc65-5a73ca3e63a9"
      },
      "source": [
        "for feature in ['part', 'correct_answer']:\r\n",
        "    barplot_features(questions, feature=feature, title=feature + \" - barplot distribution\")"
      ],
      "execution_count": null,
      "outputs": [
        {
          "output_type": "display_data",
          "data": {
            "image/png": "[encoded data removed]",
            "text/plain": [
              "<Figure size 1296x216 with 1 Axes>"
            ]
          },
          "metadata": {
            "tags": []
          }
        },
        {
          "output_type": "display_data",
          "data": {
            "image/png": "[encoded data removed]",
            "text/plain": [
              "<Figure size 1296x216 with 1 Axes>"
            ]
          },
          "metadata": {
            "tags": []
          }
        }
      ]
    },
    {
      "cell_type": "code",
      "metadata": {
        "colab": {
          "base_uri": "https://localhost:8080/",
          "height": 282
        },
        "id": "Ko78bkj6Y5Vt",
        "outputId": "91738e77-f077-4992-94c4-d92e188225f9"
      },
      "source": [
        "distplot_features(questions, 'tags', title = \"Tags - Count Distribution\", color = custom_colors[0], categorical=True)"
      ],
      "execution_count": null,
      "outputs": [
        {
          "output_type": "stream",
          "text": [
            "Mean: 8.89671052631579 \n",
            "Median: 2.0 \n",
            "Max: 738\n"
          ],
          "name": "stdout"
        },
        {
          "output_type": "display_data",
          "data": {
            "image/png": "[encoded data removed]",
            "text/plain": [
              "<Figure size 1296x216 with 1 Axes>"
            ]
          },
          "metadata": {
            "tags": []
          }
        }
      ]
    },
    {
      "cell_type": "markdown",
      "metadata": {
        "id": "2W1N7pO6Tero"
      },
      "source": [
        "\n",
        "\n",
        "---\n",
        "\n",
        "# Data Preprocessing\n",
        "\n",
        "---\n",
        "\n"
      ]
    },
    {
      "cell_type": "code",
      "metadata": {
        "colab": {
          "base_uri": "https://localhost:8080/"
        },
        "id": "P4oAYPoJZRL1",
        "outputId": "b4628b45-803f-4989-a896-d898efc5d2dd"
      },
      "source": [
        "free_gpu_cache()"
      ],
      "execution_count": null,
      "outputs": [
        {
          "output_type": "stream",
          "text": [
            "Initial GPU Usage\n",
            "| ID | GPU | MEM |\n",
            "------------------\n",
            "|  0 |  0% | 67% |\n",
            "GPU Usage after emptying the cache\n",
            "| ID | GPU  | MEM |\n",
            "-------------------\n",
            "|  0 | 100% |  1% |\n"
          ],
          "name": "stdout"
        }
      ]
    },
    {
      "cell_type": "code",
      "metadata": {
        "id": "o5s4FC3QZNZ-"
      },
      "source": [
        "#choosing important attributes\r\n",
        "train = dask_cudf.from_cudf(cudf.read_csv('train.csv',\r\n",
        "                          dtype={'row_id': 'int64',\r\n",
        "                          'timestamp': 'int64',\r\n",
        "                          'user_id': 'int32',\r\n",
        "                          'content_id': 'int16',\r\n",
        "                          'content_type_id': 'int8',\r\n",
        "                          'task_container_id': 'int16',\r\n",
        "                          'user_answer': 'int8',\r\n",
        "                          'answered_correctly':'int8',\r\n",
        "                          'prior_question_elapsed_time': 'float32',\r\n",
        "                          'prior_question_had_explanation': 'boolean'}\r\n",
        "                   ),npartitions=6).compute()\r\n",
        "print(train.shape)"
      ],
      "execution_count": null,
      "outputs": []
    },
    {
      "cell_type": "code",
      "metadata": {
        "id": "rDbo8PUP42qD",
        "colab": {
          "base_uri": "https://localhost:8080/",
          "height": 451
        },
        "outputId": "a54b6691-7c83-4bbb-997a-9676f5b3b0af"
      },
      "source": [
        "train_grouped = train.groupby('user_id')\n",
        "train_grouped.nth(5)"
      ],
      "execution_count": null,
      "outputs": [
        {
          "output_type": "execute_result",
          "data": {
            "text/html": [
              "<div>\n",
              "<style scoped>\n",
              "    .dataframe tbody tr th:only-of-type {\n",
              "        vertical-align: middle;\n",
              "    }\n",
              "\n",
              "    .dataframe tbody tr th {\n",
              "        vertical-align: top;\n",
              "    }\n",
              "\n",
              "    .dataframe thead th {\n",
              "        text-align: right;\n",
              "    }\n",
              "</style>\n",
              "<table border=\"1\" class=\"dataframe\">\n",
              "  <thead>\n",
              "    <tr style=\"text-align: right;\">\n",
              "      <th></th>\n",
              "      <th>row_id</th>\n",
              "      <th>timestamp</th>\n",
              "      <th>content_id</th>\n",
              "      <th>content_type_id</th>\n",
              "      <th>task_container_id</th>\n",
              "      <th>user_answer</th>\n",
              "      <th>answered_correctly</th>\n",
              "      <th>prior_question_elapsed_time</th>\n",
              "      <th>prior_question_had_explanation</th>\n",
              "    </tr>\n",
              "    <tr>\n",
              "      <th>user_id</th>\n",
              "      <th></th>\n",
              "      <th></th>\n",
              "      <th></th>\n",
              "      <th></th>\n",
              "      <th></th>\n",
              "      <th></th>\n",
              "      <th></th>\n",
              "      <th></th>\n",
              "      <th></th>\n",
              "    </tr>\n",
              "  </thead>\n",
              "  <tbody>\n",
              "    <tr>\n",
              "      <th>115</th>\n",
              "      <td>5</td>\n",
              "      <td>157063</td>\n",
              "      <td>156</td>\n",
              "      <td>0</td>\n",
              "      <td>5</td>\n",
              "      <td>2</td>\n",
              "      <td>1</td>\n",
              "      <td>5000.0</td>\n",
              "      <td>False</td>\n",
              "    </tr>\n",
              "    <tr>\n",
              "      <th>124</th>\n",
              "      <td>51</td>\n",
              "      <td>189483</td>\n",
              "      <td>2063</td>\n",
              "      <td>0</td>\n",
              "      <td>4</td>\n",
              "      <td>3</td>\n",
              "      <td>0</td>\n",
              "      <td>18000.0</td>\n",
              "      <td>False</td>\n",
              "    </tr>\n",
              "    <tr>\n",
              "      <th>2746</th>\n",
              "      <td>81</td>\n",
              "      <td>111621</td>\n",
              "      <td>382</td>\n",
              "      <td>0</td>\n",
              "      <td>5</td>\n",
              "      <td>0</td>\n",
              "      <td>1</td>\n",
              "      <td>16000.0</td>\n",
              "      <td>False</td>\n",
              "    </tr>\n",
              "    <tr>\n",
              "      <th>5382</th>\n",
              "      <td>101</td>\n",
              "      <td>178049</td>\n",
              "      <td>4990</td>\n",
              "      <td>0</td>\n",
              "      <td>5</td>\n",
              "      <td>3</td>\n",
              "      <td>1</td>\n",
              "      <td>12000.0</td>\n",
              "      <td>False</td>\n",
              "    </tr>\n",
              "    <tr>\n",
              "      <th>8623</th>\n",
              "      <td>229</td>\n",
              "      <td>189115</td>\n",
              "      <td>5738</td>\n",
              "      <td>0</td>\n",
              "      <td>5</td>\n",
              "      <td>2</td>\n",
              "      <td>1</td>\n",
              "      <td>35000.0</td>\n",
              "      <td>False</td>\n",
              "    </tr>\n",
              "    <tr>\n",
              "      <th>...</th>\n",
              "      <td>...</td>\n",
              "      <td>...</td>\n",
              "      <td>...</td>\n",
              "      <td>...</td>\n",
              "      <td>...</td>\n",
              "      <td>...</td>\n",
              "      <td>...</td>\n",
              "      <td>...</td>\n",
              "      <td>...</td>\n",
              "    </tr>\n",
              "    <tr>\n",
              "      <th>2147470770</th>\n",
              "      <td>101228994</td>\n",
              "      <td>149366</td>\n",
              "      <td>2065</td>\n",
              "      <td>0</td>\n",
              "      <td>4</td>\n",
              "      <td>2</td>\n",
              "      <td>1</td>\n",
              "      <td>16000.0</td>\n",
              "      <td>False</td>\n",
              "    </tr>\n",
              "    <tr>\n",
              "      <th>2147470777</th>\n",
              "      <td>101229222</td>\n",
              "      <td>19189567</td>\n",
              "      <td>2064</td>\n",
              "      <td>0</td>\n",
              "      <td>4</td>\n",
              "      <td>0</td>\n",
              "      <td>0</td>\n",
              "      <td>17000.0</td>\n",
              "      <td>False</td>\n",
              "    </tr>\n",
              "    <tr>\n",
              "      <th>2147481750</th>\n",
              "      <td>101229980</td>\n",
              "      <td>93397</td>\n",
              "      <td>378</td>\n",
              "      <td>0</td>\n",
              "      <td>5</td>\n",
              "      <td>1</td>\n",
              "      <td>1</td>\n",
              "      <td>15000.0</td>\n",
              "      <td>False</td>\n",
              "    </tr>\n",
              "    <tr>\n",
              "      <th>2147482216</th>\n",
              "      <td>101230030</td>\n",
              "      <td>108121</td>\n",
              "      <td>5987</td>\n",
              "      <td>0</td>\n",
              "      <td>5</td>\n",
              "      <td>1</td>\n",
              "      <td>0</td>\n",
              "      <td>12000.0</td>\n",
              "      <td>False</td>\n",
              "    </tr>\n",
              "    <tr>\n",
              "      <th>2147482888</th>\n",
              "      <td>101230310</td>\n",
              "      <td>109739</td>\n",
              "      <td>7956</td>\n",
              "      <td>0</td>\n",
              "      <td>5</td>\n",
              "      <td>0</td>\n",
              "      <td>1</td>\n",
              "      <td>16000.0</td>\n",
              "      <td>False</td>\n",
              "    </tr>\n",
              "  </tbody>\n",
              "</table>\n",
              "<p>393382 rows × 9 columns</p>\n",
              "</div>"
            ],
            "text/plain": [
              "               row_id  ...  prior_question_had_explanation\n",
              "user_id                ...                                \n",
              "115                 5  ...                           False\n",
              "124                51  ...                           False\n",
              "2746               81  ...                           False\n",
              "5382              101  ...                           False\n",
              "8623              229  ...                           False\n",
              "...               ...  ...                             ...\n",
              "2147470770  101228994  ...                           False\n",
              "2147470777  101229222  ...                           False\n",
              "2147481750  101229980  ...                           False\n",
              "2147482216  101230030  ...                           False\n",
              "2147482888  101230310  ...                           False\n",
              "\n",
              "[393382 rows x 9 columns]"
            ]
          },
          "metadata": {
            "tags": []
          },
          "execution_count": 44
        }
      ]
    },
    {
      "cell_type": "code",
      "metadata": {
        "id": "dhakHVlP6jYl"
      },
      "source": [
        "\"\"\"df1 = cudf.DataFrame([['a', 1], ['b', 2], ['c', 1], ['a', 2],['a', 1], ['b', 2], ['c', 1], ['a', 2],['a', 1], ['b', 2], ['c', 1], ['a', 2],['a', 1], ['b', 2], ['c', 1], ['a', 2],['a', 1], ['b', 2], ['c', 1], ['a', 2]],\n",
        "                  columns=['A', 'B'])\n",
        "\n",
        "data = df1.to_pandas()\n",
        "print(data.groupby('A').tail(5))\"\"\""
      ],
      "execution_count": null,
      "outputs": []
    },
    {
      "cell_type": "code",
      "metadata": {
        "id": "D0WezScSxQXS"
      },
      "source": [
        "#split based on user_id and timestamp\n",
        "train = train[train.content_type_id == False].sort_values('timestamp').reset_index(drop = True)\n",
        "print(train.shape)\n",
        "train_pd = train.to_pandas()\n",
        "valid_split = train_pd.groupby('user_id').tail(5)\n",
        "del(train_pd)\n",
        "valid_split1 = cudf.from_pandas(valid_split)\n",
        "del(valid_split)\n",
        "train_split1 = train[~train.row_id.isin(valid_split1.row_id)]"
      ],
      "execution_count": null,
      "outputs": []
    },
    {
      "cell_type": "code",
      "metadata": {
        "id": "yLHF6ml0Fb1E"
      },
      "source": [
        "del(train_split1)\n",
        "del(valid_split1)"
      ],
      "execution_count": null,
      "outputs": []
    },
    {
      "cell_type": "code",
      "metadata": {
        "id": "m8w8RimfxTaU"
      },
      "source": [
        "\"\"\"import random\n",
        "max_timestamp_u = train[['user_id','timestamp']].groupby(['user_id']).agg(['max']).reset_index()\n",
        "max_timestamp_u.columns = ['user_id', 'max_time_stamp']\n",
        "MAX_TIME_STAMP = max_timestamp_u.max_time_stamp.max()\n",
        "def rand_time(max_time_stamp):\n",
        "    interval = MAX_TIME_STAMP - max_time_stamp\n",
        "    rand_time_stamp = random.randint(0,interval)\n",
        "    return rand_time_stamp\n",
        "\n",
        "max_timestamp_u_pd = max_timestamp_u.to_pandas()\n",
        "max_timestamp_u['rand_time_stamp'] = max_timestamp_u_pd.max_time_stamp.apply(rand_time)\n",
        "del(max_timestamp_u_pd)\n",
        "train = train.merge(max_timestamp_u, on='user_id', how='left')\n",
        "del(max_timestamp_u)\n",
        "train['viretual_time_stamp'] = train.timestamp + train['rand_time_stamp']\n",
        "train = train.sort_values(['viretual_time_stamp', 'row_id']).reset_index(drop=True)\"\"\""
      ],
      "execution_count": null,
      "outputs": []
    },
    {
      "cell_type": "code",
      "metadata": {
        "id": "pZ1DXgEWxYQW"
      },
      "source": [
        "#split training and testing set\n",
        "#created 5 cross validation sets\n",
        "val_size = 2500000\n",
        "\n",
        "for cv in range(5):\n",
        "    valid = train[-val_size:]\n",
        "    train = train[:-val_size]\n",
        "    # check new users and new contents\n",
        "    new_users = len(valid[~valid.user_id.isin(train.user_id)].user_id.unique())\n",
        "    valid_question = valid[valid.content_type_id == 0]\n",
        "    train_question = train[train.content_type_id == 0]\n",
        "    new_contents = len(valid_question[~valid_question.content_id.isin(train_question.content_id)].content_id.unique())    \n",
        "    print('cv{cv} {train_question.answered_correctly.mean():.3f} {valid_question.answered_correctly.mean():.3f} {new_users} {new_contents}')\n",
        "    valid.to_pickle(f'cv{cv+1}_valid.pickle')\n",
        "    train.to_pickle(f'cv{cv+1}_train.pickle')"
      ],
      "execution_count": null,
      "outputs": []
    },
    {
      "cell_type": "markdown",
      "metadata": {
        "id": "LV1EzDaFyahv"
      },
      "source": [
        "Feature Engineering"
      ]
    },
    {
      "cell_type": "code",
      "metadata": {
        "id": "2iPOgWZaH1u2",
        "colab": {
          "base_uri": "https://localhost:8080/"
        },
        "outputId": "ee656582-d7fb-4edb-e3c9-e0604eae2d07"
      },
      "source": [
        "\"\"\"from google.colab import drive\n",
        "drive.mount('/content/drive')\"\"\""
      ],
      "execution_count": null,
      "outputs": [
        {
          "output_type": "stream",
          "text": [
            "Drive already mounted at /content/drive; to attempt to forcibly remount, call drive.mount(\"/content/drive\", force_remount=True).\n"
          ],
          "name": "stdout"
        }
      ]
    },
    {
      "cell_type": "code",
      "metadata": {
        "id": "jUFf6KksHlzI"
      },
      "source": [
        "\"\"\"train_pickle ='drive/My Drive/Colab Data/riiid/cv1_train.pickle'\n",
        "valid_pickle = 'drive/My Drive/Colab Data/riiid/cv1_valid.pickle'\n",
        "question_file = 'drive/My Drive/Colab Data/riiid/questions.csv'\"\"\""
      ],
      "execution_count": null,
      "outputs": []
    },
    {
      "cell_type": "code",
      "metadata": {
        "id": "BOxtFMJpxanG"
      },
      "source": [
        "#add new features - answered_correctly count,sum,average\n",
        "def add_user_feats(df, answered_correctly_sum_u_dict, count_u_dict):\n",
        "    acsu = np.zeros(len(df), dtype=np.int32)\n",
        "    cu = np.zeros(len(df), dtype=np.int32)\n",
        "    for cnt,row in enumerate(tqdm(df[['user_id','answered_correctly']].values)):\n",
        "        acsu[cnt] = answered_correctly_sum_u_dict[row[0]]\n",
        "        cu[cnt] = count_u_dict[row[0]]\n",
        "        answered_correctly_sum_u_dict[row[0]] += row[1]\n",
        "        count_u_dict[row[0]] += 1\n",
        "    user_feats_df = pd.DataFrame({'answered_correctly_sum_u':acsu, 'count_u':cu})\n",
        "    user_feats_df['answered_correctly_avg_u'] = user_feats_df['answered_correctly_sum_u'] / user_feats_df['count_u']\n",
        "    df = pd.concat([df, user_feats_df], axis=1)\n",
        "    del(user_feats_df)\n",
        "    del(acsu,cu)\n",
        "    return df"
      ],
      "execution_count": null,
      "outputs": []
    },
    {
      "cell_type": "code",
      "metadata": {
        "id": "PH9Za61xyema",
        "colab": {
          "base_uri": "https://localhost:8080/",
          "height": 114,
          "referenced_widgets": [
            "4c273c77a5a64d4296180d111b73498c",
            "5cf51a63115c46f5a338cad12d29d62a",
            "8263c26d3ea94aef84736a1bb6da940f",
            "a9ddb6ef72924c21857eca653ab7a003",
            "18f758d9f534430a886bded98e9f90de",
            "00c75ecd19454e2d9fe67a96374e3948",
            "a81cff484a134b2b8378c0bf262eee4f",
            "035892d6cb32459fa6bf5d4e233ee875",
            "6484f443e18944a4aba95ee02d35649e",
            "222b1ad37f1d4d8ab52c3840c535f2c3",
            "cda636c25e044dc8b611dd0912ce6a47",
            "3d1ece9e8cd6436bbaa376df8bfb4726",
            "01b25abe0eec458b856d5c70bcc7baff",
            "4635542b03044651a5bd58696bc33656",
            "8c103b6ce8694032a63a3b6145897ae9",
            "1bca3bc466464c7ab2717b6885347f03"
          ]
        },
        "outputId": "af4ad04a-2c70-4eba-ac99-33f8cddd1767"
      },
      "source": [
        "field_needed = ['row_id', 'user_id', 'content_id', 'content_type_id', 'answered_correctly', 'prior_question_elapsed_time', 'prior_question_had_explanation']\n",
        "\n",
        "answered_correctly_sum_u_dict = defaultdict(int)\n",
        "count_u_dict = defaultdict(int)\n",
        "\n",
        "train = pd.read_pickle(train_pickle)[field_needed]\n",
        "train = train.loc[train.content_type_id == False].reset_index(drop=True)\n",
        "train = add_user_feats(train, answered_correctly_sum_u_dict, count_u_dict)\n",
        "\n",
        "valid = pd.read_pickle(valid_pickle)[field_needed]\n",
        "valid = valid.loc[valid.content_type_id == False].reset_index(drop=True)\n",
        "valid = add_user_feats(valid, answered_correctly_sum_u_dict, count_u_dict) \n",
        "\n",
        "del(answered_correctly_sum_u_dict)\n",
        "del(count_u_dict)\n"
      ],
      "execution_count": null,
      "outputs": [
        {
          "output_type": "display_data",
          "data": {
            "application/vnd.jupyter.widget-view+json": {
              "model_id": "4c273c77a5a64d4296180d111b73498c",
              "version_minor": 0,
              "version_major": 2
            },
            "text/plain": [
              "HBox(children=(FloatProgress(value=0.0, max=96817414.0), HTML(value='')))"
            ]
          },
          "metadata": {
            "tags": []
          }
        },
        {
          "output_type": "stream",
          "text": [
            "\n"
          ],
          "name": "stdout"
        },
        {
          "output_type": "display_data",
          "data": {
            "application/vnd.jupyter.widget-view+json": {
              "model_id": "6484f443e18944a4aba95ee02d35649e",
              "version_minor": 0,
              "version_major": 2
            },
            "text/plain": [
              "HBox(children=(FloatProgress(value=0.0, max=2453886.0), HTML(value='')))"
            ]
          },
          "metadata": {
            "tags": []
          }
        },
        {
          "output_type": "stream",
          "text": [
            "\n"
          ],
          "name": "stdout"
        }
      ]
    },
    {
      "cell_type": "code",
      "metadata": {
        "id": "GlLiLQvqd_Zt",
        "colab": {
          "base_uri": "https://localhost:8080/"
        },
        "outputId": "7f6e33c1-8ed1-48fb-fa9f-0d613a0e7bfd"
      },
      "source": [
        "#merging train wiht new features\n",
        "#extra attribute for answered correctly based on content_id\n",
        "content_df = train[['content_id','answered_correctly']].groupby(['content_id']).agg(['mean']).reset_index()\n",
        "print(content_df)\n",
        "content_df.columns = ['content_id', 'answered_correctly_avg_c']\n",
        "\n",
        "train = cudf.merge(train, content_df, on=['content_id'], how=\"left\")\n",
        "valid = cudf.merge(valid, content_df, on=['content_id'], how=\"left\")\n",
        "\n",
        "print(train.shape)\n",
        "print(valid.shape)\n",
        "\n",
        "del(content_df)"
      ],
      "execution_count": null,
      "outputs": [
        {
          "output_type": "stream",
          "text": [
            "      content_id answered_correctly\n",
            "                               mean\n",
            "0              0           0.907334\n",
            "1              1           0.890571\n",
            "2              2           0.554213\n",
            "3              3           0.779386\n",
            "4              4           0.613970\n",
            "...          ...                ...\n",
            "13518      13518           0.782936\n",
            "13519      13519           0.564912\n",
            "13520      13520           0.674129\n",
            "13521      13521           0.804483\n",
            "13522      13522           0.909887\n",
            "\n",
            "[13523 rows x 2 columns]\n"
          ],
          "name": "stdout"
        }
      ]
    },
    {
      "cell_type": "code",
      "metadata": {
        "id": "4ca7zPRvYcZp"
      },
      "source": [
        "#fill NA with mean\n",
        "prior_question_elapsed_time_mean=train[\"prior_question_elapsed_time\"].mean(skipna=True)\n",
        "train[\"prior_question_elapsed_time\"].fillna(prior_question_elapsed_time_mean, inplace=True)\n",
        "\n",
        "train['prior_question_elapsed_time_mean'] = train.prior_question_elapsed_time.fillna(prior_question_elapsed_time_mean)\n",
        "valid['prior_question_elapsed_time_mean'] = valid.prior_question_elapsed_time.fillna(prior_question_elapsed_time_mean)\n",
        "\n",
        "train1 = cudf.from_pandas(train)\n",
        "valid1 = cudf.from_pandas(valid)\n",
        "\n",
        "del(train,valid)\n",
        "\n",
        "#merge train with questions.csv\n",
        "questions_df = cudf.read_csv(question_file)\n",
        "train1 = cudf.merge(train1, questions_df[['question_id', 'part']], left_on = 'content_id', right_on = 'question_id', how = 'left')\n",
        "valid1 = cudf.merge(valid1, questions_df[['question_id', 'part']], left_on = 'content_id', right_on = 'question_id', how = 'left')\n",
        "\n",
        "train1['prior_question_had_explanation'] = train1.prior_question_had_explanation.fillna(False).astype('int8')\n",
        "valid1['prior_question_had_explanation'] = valid1.prior_question_had_explanation.fillna(False).astype('int8')\n",
        "\n",
        "del(questions_df)"
      ],
      "execution_count": null,
      "outputs": []
    },
    {
      "cell_type": "code",
      "metadata": {
        "id": "aRBUcVX9uigl"
      },
      "source": [
        "import pickle\n",
        "\"\"\"train = train.to_pandas()\n",
        "valid = valid.to_pandas()\"\"\"\n",
        "\n",
        "\"\"\"pickle.dump(valid1, open( \"cu_lgb_valid.p\", \"wb\" ) )\n",
        "pickle.dump(train1, open( \"cu_lgb_train.p\", \"wb\" ) )\"\"\""
      ],
      "execution_count": null,
      "outputs": []
    },
    {
      "cell_type": "markdown",
      "metadata": {
        "id": "Ze4fQkexyn9_"
      },
      "source": [
        "Modeliing\n"
      ]
    },
    {
      "cell_type": "markdown",
      "metadata": {
        "id": "AxEdumSVwpmE"
      },
      "source": [
        "# Model"
      ]
    },
    {
      "cell_type": "markdown",
      "metadata": {
        "id": "-Xn0mktHFcuR"
      },
      "source": [
        "## LightGBM"
      ]
    },
    {
      "cell_type": "code",
      "metadata": {
        "id": "vPs-bAil4p6T",
        "colab": {
          "base_uri": "https://localhost:8080/"
        },
        "outputId": "ba520811-d076-4a42-cffb-185dfdbdc48f"
      },
      "source": [
        "from google.colab import drive\r\n",
        "drive.mount('/content/drive')"
      ],
      "execution_count": null,
      "outputs": [
        {
          "output_type": "stream",
          "text": [
            "Drive already mounted at /content/drive; to attempt to forcibly remount, call drive.mount(\"/content/drive\", force_remount=True).\n"
          ],
          "name": "stdout"
        }
      ]
    },
    {
      "cell_type": "code",
      "metadata": {
        "id": "B-oSo0VEwoTY",
        "colab": {
          "base_uri": "https://localhost:8080/"
        },
        "outputId": "626e980e-8fe8-4039-bc14-c8596e101615"
      },
      "source": [
        "!git clone --recursive https://github.com/microsoft/LightGBM \r\n",
        "!cd LightGBM && rm -rf build && mkdir build && cd build && cmake -DUSE_GPU=1 ../../LightGBM && make -j4 && cd ../python-package && python3 setup.py install --precompile --gpu;"
      ],
      "execution_count": null,
      "outputs": [
        {
          "output_type": "stream",
          "text": [
            "fatal: destination path 'LightGBM' already exists and is not an empty directory.\n",
            "-- The C compiler identification is GNU 7.5.0\n",
            "-- The CXX compiler identification is GNU 7.5.0\n",
            "-- Check for working C compiler: /usr/bin/cc\n",
            "-- Check for working C compiler: /usr/bin/cc -- works\n",
            "-- Detecting C compiler ABI info\n",
            "-- Detecting C compiler ABI info - done\n",
            "-- Detecting C compile features\n",
            "-- Detecting C compile features - done\n",
            "-- Check for working CXX compiler: /usr/bin/c++\n",
            "-- Check for working CXX compiler: /usr/bin/c++ -- works\n",
            "-- Detecting CXX compiler ABI info\n",
            "-- Detecting CXX compiler ABI info - done\n",
            "-- Detecting CXX compile features\n",
            "-- Detecting CXX compile features - done\n",
            "-- Found OpenMP_C: -fopenmp (found version \"4.5\") \n",
            "-- Found OpenMP_CXX: -fopenmp (found version \"4.5\") \n",
            "-- Found OpenMP: TRUE (found version \"4.5\")  \n",
            "-- Looking for CL_VERSION_2_2\n",
            "-- Looking for CL_VERSION_2_2 - found\n",
            "-- Found OpenCL: /usr/lib/x86_64-linux-gnu/libOpenCL.so (found version \"2.2\") \n",
            "-- OpenCL include directory: /usr/include\n",
            "-- Boost version: 1.65.1\n",
            "-- Found the following Boost libraries:\n",
            "--   filesystem\n",
            "--   system\n",
            "-- Performing Test MM_PREFETCH\n",
            "-- Performing Test MM_PREFETCH - Success\n",
            "-- Using _mm_prefetch\n",
            "-- Performing Test MM_MALLOC\n",
            "-- Performing Test MM_MALLOC - Success\n",
            "-- Using _mm_malloc\n",
            "-- Configuring done\n",
            "-- Generating done\n",
            "-- Build files have been written to: /content/LightGBM/build\n",
            "\u001b[35m\u001b[1mScanning dependencies of target _lightgbm\u001b[0m\n",
            "\u001b[35m\u001b[1mScanning dependencies of target lightgbm\u001b[0m\n",
            "[  1%] \u001b[32mBuilding CXX object CMakeFiles/lightgbm.dir/src/application/application.cpp.o\u001b[0m\n",
            "[  2%] \u001b[32mBuilding CXX object CMakeFiles/lightgbm.dir/src/main.cpp.o\u001b[0m\n",
            "[  4%] \u001b[32mBuilding CXX object CMakeFiles/lightgbm.dir/src/boosting/boosting.cpp.o\u001b[0m\n",
            "[  5%] \u001b[32mBuilding CXX object CMakeFiles/_lightgbm.dir/src/boosting/boosting.cpp.o\u001b[0m\n",
            "[  7%] \u001b[32mBuilding CXX object CMakeFiles/_lightgbm.dir/src/boosting/gbdt.cpp.o\u001b[0m\n",
            "[  8%] \u001b[32mBuilding CXX object CMakeFiles/lightgbm.dir/src/boosting/gbdt.cpp.o\u001b[0m\n",
            "[ 10%] \u001b[32mBuilding CXX object CMakeFiles/_lightgbm.dir/src/boosting/gbdt_model_text.cpp.o\u001b[0m\n",
            "[ 11%] \u001b[32mBuilding CXX object CMakeFiles/lightgbm.dir/src/boosting/gbdt_model_text.cpp.o\u001b[0m\n",
            "[ 13%] \u001b[32mBuilding CXX object CMakeFiles/_lightgbm.dir/src/boosting/gbdt_prediction.cpp.o\u001b[0m\n",
            "[ 14%] \u001b[32mBuilding CXX object CMakeFiles/_lightgbm.dir/src/boosting/prediction_early_stop.cpp.o\u001b[0m\n",
            "[ 16%] \u001b[32mBuilding CXX object CMakeFiles/_lightgbm.dir/src/io/bin.cpp.o\u001b[0m\n",
            "[ 17%] \u001b[32mBuilding CXX object CMakeFiles/lightgbm.dir/src/boosting/gbdt_prediction.cpp.o\u001b[0m\n",
            "[ 19%] \u001b[32mBuilding CXX object CMakeFiles/_lightgbm.dir/src/io/config.cpp.o\u001b[0m\n",
            "[ 20%] \u001b[32mBuilding CXX object CMakeFiles/lightgbm.dir/src/boosting/prediction_early_stop.cpp.o\u001b[0m\n",
            "[ 22%] \u001b[32mBuilding CXX object CMakeFiles/lightgbm.dir/src/io/bin.cpp.o\u001b[0m\n",
            "[ 23%] \u001b[32mBuilding CXX object CMakeFiles/lightgbm.dir/src/io/config.cpp.o\u001b[0m\n",
            "[ 25%] \u001b[32mBuilding CXX object CMakeFiles/_lightgbm.dir/src/io/config_auto.cpp.o\u001b[0m\n",
            "[ 26%] \u001b[32mBuilding CXX object CMakeFiles/lightgbm.dir/src/io/config_auto.cpp.o\u001b[0m\n",
            "[ 28%] \u001b[32mBuilding CXX object CMakeFiles/_lightgbm.dir/src/io/dataset.cpp.o\u001b[0m\n",
            "[ 29%] \u001b[32mBuilding CXX object CMakeFiles/lightgbm.dir/src/io/dataset.cpp.o\u001b[0m\n",
            "[ 31%] \u001b[32mBuilding CXX object CMakeFiles/_lightgbm.dir/src/io/dataset_loader.cpp.o\u001b[0m\n",
            "[ 32%] \u001b[32mBuilding CXX object CMakeFiles/_lightgbm.dir/src/io/file_io.cpp.o\u001b[0m\n",
            "[ 34%] \u001b[32mBuilding CXX object CMakeFiles/_lightgbm.dir/src/io/json11.cpp.o\u001b[0m\n",
            "[ 35%] \u001b[32mBuilding CXX object CMakeFiles/lightgbm.dir/src/io/dataset_loader.cpp.o\u001b[0m\n",
            "[ 37%] \u001b[32mBuilding CXX object CMakeFiles/lightgbm.dir/src/io/file_io.cpp.o\u001b[0m\n",
            "[ 38%] \u001b[32mBuilding CXX object CMakeFiles/lightgbm.dir/src/io/json11.cpp.o\u001b[0m\n",
            "[ 40%] \u001b[32mBuilding CXX object CMakeFiles/_lightgbm.dir/src/io/metadata.cpp.o\u001b[0m\n",
            "[ 41%] \u001b[32mBuilding CXX object CMakeFiles/_lightgbm.dir/src/io/parser.cpp.o\u001b[0m\n",
            "[ 43%] \u001b[32mBuilding CXX object CMakeFiles/lightgbm.dir/src/io/metadata.cpp.o\u001b[0m\n",
            "[ 44%] \u001b[32mBuilding CXX object CMakeFiles/_lightgbm.dir/src/io/train_share_states.cpp.o\u001b[0m\n",
            "[ 46%] \u001b[32mBuilding CXX object CMakeFiles/lightgbm.dir/src/io/parser.cpp.o\u001b[0m\n",
            "[ 47%] \u001b[32mBuilding CXX object CMakeFiles/lightgbm.dir/src/io/train_share_states.cpp.o\u001b[0m\n",
            "[ 49%] \u001b[32mBuilding CXX object CMakeFiles/lightgbm.dir/src/io/tree.cpp.o\u001b[0m\n",
            "[ 50%] \u001b[32mBuilding CXX object CMakeFiles/_lightgbm.dir/src/io/tree.cpp.o\u001b[0m\n",
            "[ 52%] \u001b[32mBuilding CXX object CMakeFiles/lightgbm.dir/src/metric/dcg_calculator.cpp.o\u001b[0m\n",
            "[ 53%] \u001b[32mBuilding CXX object CMakeFiles/lightgbm.dir/src/metric/metric.cpp.o\u001b[0m\n",
            "[ 55%] \u001b[32mBuilding CXX object CMakeFiles/lightgbm.dir/src/network/ifaddrs_patch.cpp.o\u001b[0m\n",
            "[ 56%] \u001b[32mBuilding CXX object CMakeFiles/lightgbm.dir/src/network/linker_topo.cpp.o\u001b[0m\n",
            "[ 58%] \u001b[32mBuilding CXX object CMakeFiles/lightgbm.dir/src/network/linkers_mpi.cpp.o\u001b[0m\n",
            "[ 59%] \u001b[32mBuilding CXX object CMakeFiles/lightgbm.dir/src/network/linkers_socket.cpp.o\u001b[0m\n",
            "[ 61%] \u001b[32mBuilding CXX object CMakeFiles/lightgbm.dir/src/network/network.cpp.o\u001b[0m\n",
            "[ 62%] \u001b[32mBuilding CXX object CMakeFiles/lightgbm.dir/src/objective/objective_function.cpp.o\u001b[0m\n",
            "[ 64%] \u001b[32mBuilding CXX object CMakeFiles/_lightgbm.dir/src/metric/dcg_calculator.cpp.o\u001b[0m\n",
            "[ 65%] \u001b[32mBuilding CXX object CMakeFiles/_lightgbm.dir/src/metric/metric.cpp.o\u001b[0m\n",
            "[ 67%] \u001b[32mBuilding CXX object CMakeFiles/lightgbm.dir/src/treelearner/cuda_tree_learner.cpp.o\u001b[0m\n",
            "[ 68%] \u001b[32mBuilding CXX object CMakeFiles/lightgbm.dir/src/treelearner/data_parallel_tree_learner.cpp.o\u001b[0m\n",
            "[ 70%] \u001b[32mBuilding CXX object CMakeFiles/_lightgbm.dir/src/network/ifaddrs_patch.cpp.o\u001b[0m\n",
            "[ 71%] \u001b[32mBuilding CXX object CMakeFiles/lightgbm.dir/src/treelearner/feature_parallel_tree_learner.cpp.o\u001b[0m\n",
            "[ 73%] \u001b[32mBuilding CXX object CMakeFiles/_lightgbm.dir/src/network/linker_topo.cpp.o\u001b[0m\n",
            "[ 74%] \u001b[32mBuilding CXX object CMakeFiles/lightgbm.dir/src/treelearner/gpu_tree_learner.cpp.o\u001b[0m\n",
            "[ 76%] \u001b[32mBuilding CXX object CMakeFiles/_lightgbm.dir/src/network/linkers_mpi.cpp.o\u001b[0m\n",
            "[ 77%] \u001b[32mBuilding CXX object CMakeFiles/_lightgbm.dir/src/network/linkers_socket.cpp.o\u001b[0m\n",
            "[ 79%] \u001b[32mBuilding CXX object CMakeFiles/lightgbm.dir/src/treelearner/serial_tree_learner.cpp.o\u001b[0m\n",
            "[ 80%] \u001b[32mBuilding CXX object CMakeFiles/_lightgbm.dir/src/network/network.cpp.o\u001b[0m\n",
            "[ 82%] \u001b[32mBuilding CXX object CMakeFiles/lightgbm.dir/src/treelearner/tree_learner.cpp.o\u001b[0m\n",
            "[ 83%] \u001b[32mBuilding CXX object CMakeFiles/_lightgbm.dir/src/objective/objective_function.cpp.o\u001b[0m\n",
            "[ 85%] \u001b[32mBuilding CXX object CMakeFiles/lightgbm.dir/src/treelearner/voting_parallel_tree_learner.cpp.o\u001b[0m\n",
            "[ 86%] \u001b[32mBuilding CXX object CMakeFiles/_lightgbm.dir/src/treelearner/cuda_tree_learner.cpp.o\u001b[0m\n",
            "[ 88%] \u001b[32mBuilding CXX object CMakeFiles/_lightgbm.dir/src/treelearner/data_parallel_tree_learner.cpp.o\u001b[0m\n",
            "[ 89%] \u001b[32mBuilding CXX object CMakeFiles/_lightgbm.dir/src/treelearner/feature_parallel_tree_learner.cpp.o\u001b[0m\n",
            "[ 91%] \u001b[32mBuilding CXX object CMakeFiles/_lightgbm.dir/src/treelearner/gpu_tree_learner.cpp.o\u001b[0m\n",
            "[ 92%] \u001b[32mBuilding CXX object CMakeFiles/_lightgbm.dir/src/treelearner/serial_tree_learner.cpp.o\u001b[0m\n",
            "[ 94%] \u001b[32mBuilding CXX object CMakeFiles/_lightgbm.dir/src/treelearner/tree_learner.cpp.o\u001b[0m\n",
            "[ 95%] \u001b[32mBuilding CXX object CMakeFiles/_lightgbm.dir/src/treelearner/voting_parallel_tree_learner.cpp.o\u001b[0m\n",
            "[ 97%] \u001b[32mBuilding CXX object CMakeFiles/_lightgbm.dir/src/c_api.cpp.o\u001b[0m\n",
            "[ 98%] \u001b[32m\u001b[1mLinking CXX executable ../lightgbm\u001b[0m\n",
            "[ 98%] Built target lightgbm\n",
            "[100%] \u001b[32m\u001b[1mLinking CXX shared library ../lib_lightgbm.so\u001b[0m\n",
            "[100%] Built target _lightgbm\n",
            "running install\n",
            "running build\n",
            "running build_py\n",
            "INFO:root:Generating grammar tables from /usr/lib/python3.6/lib2to3/Grammar.txt\n",
            "INFO:root:Generating grammar tables from /usr/lib/python3.6/lib2to3/PatternGrammar.txt\n",
            "running egg_info\n",
            "writing lightgbm.egg-info/PKG-INFO\n",
            "writing dependency_links to lightgbm.egg-info/dependency_links.txt\n",
            "writing requirements to lightgbm.egg-info/requires.txt\n",
            "writing top-level names to lightgbm.egg-info/top_level.txt\n",
            "reading manifest template 'MANIFEST.in'\n",
            "no previously-included directories found matching 'build'\n",
            "warning: no files found matching 'LICENSE'\n",
            "warning: no files found matching '*.txt'\n",
            "warning: no files found matching '*.so' under directory 'lightgbm'\n",
            "warning: no files found matching 'compile/CMakeLists.txt'\n",
            "warning: no files found matching 'compile/CMakeIntegratedOpenCL.cmake'\n",
            "warning: no files found matching '*.so' under directory 'compile'\n",
            "warning: no files found matching '*.dll' under directory 'compile/Release'\n",
            "warning: no files found matching 'compile/compute/CMakeLists.txt'\n",
            "warning: no files found matching '*' under directory 'compile/compute/cmake'\n",
            "warning: no files found matching '*' under directory 'compile/compute/include'\n",
            "warning: no files found matching '*' under directory 'compile/compute/meta'\n",
            "warning: no files found matching 'compile/external_libs/fast_double_parser/CMakeLists.txt'\n",
            "warning: no files found matching 'compile/external_libs/fast_double_parser/LICENSE'\n",
            "warning: no files found matching 'compile/external_libs/fast_double_parser/LICENSE.BSL'\n",
            "warning: no files found matching '*' under directory 'compile/external_libs/fast_double_parser/include'\n",
            "warning: no files found matching 'compile/external_libs/fmt/CMakeLists.txt'\n",
            "warning: no files found matching 'compile/external_libs/fmt/LICENSE.rst'\n",
            "warning: no files found matching '*' under directory 'compile/external_libs/fmt/include'\n",
            "warning: no files found matching '*' under directory 'compile/include'\n",
            "warning: no files found matching '*' under directory 'compile/src'\n",
            "warning: no files found matching 'LightGBM.sln' under directory 'compile/windows'\n",
            "warning: no files found matching 'LightGBM.vcxproj' under directory 'compile/windows'\n",
            "warning: no files found matching '*.dll' under directory 'compile/windows/x64/DLL'\n",
            "warning: no previously-included files matching '*.py[co]' found anywhere in distribution\n",
            "warning: no previously-included files found matching 'compile/compute/.git'\n",
            "writing manifest file 'lightgbm.egg-info/SOURCES.txt'\n",
            "running install_lib\n",
            "INFO:LightGBM:Installing lib_lightgbm from: ['../lib_lightgbm.so']\n",
            "copying ../lib_lightgbm.so -> /usr/local/lib/python3.6/dist-packages/lightgbm\n",
            "running install_egg_info\n",
            "removing '/usr/local/lib/python3.6/dist-packages/lightgbm-3.1.1.99-py3.6.egg-info' (and everything under it)\n",
            "Copying lightgbm.egg-info to /usr/local/lib/python3.6/dist-packages/lightgbm-3.1.1.99-py3.6.egg-info\n",
            "running install_scripts\n"
          ],
          "name": "stdout"
        }
      ]
    },
    {
      "cell_type": "code",
      "metadata": {
        "id": "GJIKqust4eci"
      },
      "source": [
        "import pandas as pd\r\n",
        "\r\n",
        "train_pickle ='/content/drive/My Drive/Colab Data/riiid/lgb_train.p'\r\n",
        "valid_pickle = '/content/drive/My Drive/Colab Data/riiid/lgb_valid.p'\r\n",
        "\r\n",
        "train = pd.read_pickle(train_pickle)\r\n",
        "valid = pd.read_pickle(valid_pickle)"
      ],
      "execution_count": null,
      "outputs": []
    },
    {
      "cell_type": "code",
      "metadata": {
        "id": "3gupO7CV4g6t"
      },
      "source": [
        "import lightgbm as lgb\r\n",
        "from sklearn.metrics import roc_auc_score\r\n",
        " \r\n",
        "FEATS = ['row_id', 'user_id', 'content_id', 'content_type_id',\r\n",
        "       'prior_question_elapsed_time',\r\n",
        "       'prior_question_had_explanation', 'answered_correctly_sum_u', 'count_u',\r\n",
        "       'answered_correctly_avg_u', 'answered_correctly_avg_c',\r\n",
        "       'prior_question_elapsed_time_mean', 'question_id', 'part']\r\n",
        " \r\n",
        "TARGET = ['answered_correctly']\r\n",
        " \r\n",
        "\"\"\"X_train = train[FEATS]\r\n",
        "y_train = train[TARGET]\r\n",
        "X_valid = valid[FEATS]\r\n",
        "y_valid = valid[TARGET]\r\n",
        "\"\"\"\r\n",
        "\r\n",
        "lgb_train = lgb.Dataset(train[FEATS],label = train[TARGET])\r\n",
        "lgb_valid = lgb.Dataset(valid[FEATS],label = valid[TARGET])\r\n",
        "\r\n",
        "categorical = [col for col in train[FEATS].columns if train[FEATS][col].dtype == 'object']\r\n"
      ],
      "execution_count": null,
      "outputs": []
    },
    {
      "cell_type": "code",
      "metadata": {
        "id": "E-HVT2GPZNBR"
      },
      "source": [
        "\"\"\"from scipy.stats import randint as sp_randint\r\n",
        "from scipy.stats import uniform as sp_uniform\r\n",
        "param_test ={'num_leaves': sp_randint(6, 50), \r\n",
        "             'min_child_samples': sp_randint(100, 500), \r\n",
        "             'min_child_weight': [1e-5, 1e-3, 1e-2, 1e-1, 1, 1e1, 1e2, 1e3, 1e4],\r\n",
        "             'subsample': sp_uniform(loc=0.2, scale=0.8), \r\n",
        "             'colsample_bytree': sp_uniform(loc=0.4, scale=0.6),\r\n",
        "             'reg_alpha': [0, 1e-1, 1, 2, 5, 7, 10, 50, 100],\r\n",
        "             'reg_lambda': [0, 1e-1, 1, 5, 10, 20, 50, 100]}\r\n",
        "\r\n",
        "X_valid = valid[FEATS]\r\n",
        "y_valid = valid[TARGET]\r\n",
        "\r\n",
        "fit_params={\"early_stopping_rounds\":30, \r\n",
        "            \"eval_metric\" : 'auc', \r\n",
        "            \"eval_set\" : [(X_valid,y_valid)],\r\n",
        "            'eval_names': ['valid'],\r\n",
        "            #'callbacks': [lgb.reset_parameter(learning_rate=learning_rate_010_decay_power_099)],\r\n",
        "            'verbose': 100,\r\n",
        "            'categorical_feature': 'auto'}\r\n",
        "\r\n",
        "#This parameter defines the number of HP points to be tested\r\n",
        "n_HP_points_to_test = 100\r\n",
        "\r\n",
        "import lightgbm as lgb\r\n",
        "from sklearn.model_selection import RandomizedSearchCV, GridSearchCV\r\n",
        "\r\n",
        "#n_estimators is set to a \"large value\". The actual number of trees build will depend on early stopping and 5000 define only the absolute maximum\r\n",
        "clf = lgb.LGBMClassifier(max_depth=-1, random_state=314, silent=True, metric='None', n_jobs=4, n_estimators=5000)\r\n",
        "gs = RandomizedSearchCV(\r\n",
        "    estimator=clf, param_distributions=param_test, \r\n",
        "    n_iter=n_HP_points_to_test,\r\n",
        "    scoring='roc_auc',\r\n",
        "    cv=3,\r\n",
        "    refit=True,\r\n",
        "    random_state=314,\r\n",
        "    verbose=True)\r\n",
        "\r\n",
        "gs.fit(X_train, y_train, **fit_params)\r\n",
        "print('Best score reached: {} with params: {} '.format(gs.best_score_, gs.best_params_))\"\"\""
      ],
      "execution_count": null,
      "outputs": []
    },
    {
      "cell_type": "code",
      "metadata": {
        "id": "UW1uTRtu4lVj",
        "colab": {
          "base_uri": "https://localhost:8080/",
          "height": 761
        },
        "outputId": "c8db1aa1-abdd-45cc-f833-c766d8a8cdeb"
      },
      "source": [
        "%%time\r\n",
        "\r\n",
        "model = lgb.train(\r\n",
        "                    {\r\n",
        "                        'objective': 'binary',\r\n",
        "                        'boosting_type': 'gbdt',\r\n",
        "                        'metric': ['auc'],\r\n",
        "                        'learning_rate': 0.05,\r\n",
        "                        'max_bin': 200,\r\n",
        "                        'device_type':'gpu',\r\n",
        "                        'num_leaves': 800,\r\n",
        "                        'feature_fraction': 0.6,\r\n",
        "                        'bagging_fraction': 0.8,\r\n",
        "                        'bagging_freq': 5,\r\n",
        "                        'verbose' : 0\r\n",
        "                    }, \r\n",
        "                    lgb_train,\r\n",
        "                    valid_sets=[lgb_train, lgb_valid],\r\n",
        "                    verbose_eval=50,\r\n",
        "                    num_boost_round=5000,\r\n",
        "                    early_stopping_rounds=50\r\n",
        "                )\r\n",
        "\r\n",
        "print( 'auc_valid:', roc_auc_score(valid[TARGET], model.predict(valid[FEATS])))\r\n",
        "\r\n",
        "lgb.plot_importance(model)\r\n",
        "plt.show()\r\n",
        "\r\n",
        "from sklearn.metrics import roc_curve\r\n",
        "import matplotlib.pyplot as plt\r\n",
        "\r\n",
        "lr_fpr, lr_tpr, _ = roc_curve(valid[TARGET], model.predict(valid[FEATS]))\r\n",
        "plt.plot(lr_fpr, lr_tpr, marker='.', label='XGB')\r\n",
        "plt.xlabel('False Positive Rate')\r\n",
        "plt.ylabel('True Positive Rate')\r\n",
        "plt.legend()\r\n",
        "plt.show()"
      ],
      "execution_count": null,
      "outputs": [
        {
          "output_type": "stream",
          "text": [
            "Training until validation scores don't improve for 50 rounds\n",
            "[50]\ttraining's auc: 0.754364\tvalid_1's auc: 0.761908\n",
            "[100]\ttraining's auc: 0.757409\tvalid_1's auc: 0.762971\n",
            "[150]\ttraining's auc: 0.759648\tvalid_1's auc: 0.763346\n",
            "[200]\ttraining's auc: 0.761556\tvalid_1's auc: 0.763547\n",
            "[250]\ttraining's auc: 0.763154\tvalid_1's auc: 0.763586\n",
            "[300]\ttraining's auc: 0.76452\tvalid_1's auc: 0.76355\n",
            "Early stopping, best iteration is:\n",
            "[254]\ttraining's auc: 0.763247\tvalid_1's auc: 0.763592\n",
            "auc_valid: 0.763592025279911\n"
          ],
          "name": "stdout"
        },
        {
          "output_type": "display_data",
          "data": {
            "image/png": "[encoded data removed]",
            "text/plain": [
              "<Figure size 432x288 with 1 Axes>"
            ]
          },
          "metadata": {
            "tags": [],
            "needs_background": "light"
          }
        },
        {
          "output_type": "display_data",
          "data": {
            "image/png": "[encoded data removed]",
            "text/plain": [
              "<Figure size 432x288 with 1 Axes>"
            ]
          },
          "metadata": {
            "tags": [],
            "needs_background": "light"
          }
        },
        {
          "output_type": "stream",
          "text": [
            "CPU times: user 27min 50s, sys: 12.4 s, total: 28min 2s\n",
            "Wall time: 15min 8s\n"
          ],
          "name": "stdout"
        }
      ]
    },
    {
      "cell_type": "markdown",
      "metadata": {
        "id": "zFxYWQEDFfsH"
      },
      "source": [
        "## -\r\n"
      ]
    },
    {
      "cell_type": "code",
      "metadata": {
        "id": "Y10u0-r0Fhb-",
        "colab": {
          "base_uri": "https://localhost:8080/",
          "height": 346
        },
        "outputId": "79943a4c-b2c2-48d8-9dc8-c6e42a098322"
      },
      "source": [
        "\"\"\"%%time\r\n",
        "\r\n",
        "import xgboost\r\n",
        "from xgboost import XGBClassifier\r\n",
        "from xgboost import plot_importance\r\n",
        "\r\n",
        "from xgboost import XGBClassifier\r\n",
        "# Creating the model\r\n",
        "model_XGB = XGBClassifier()\r\n",
        "\r\n",
        "# Training the model\r\n",
        "model_XGB.fit(train[FEATS], train[TARGET])\r\n",
        "\r\n",
        "# predict probabilities\r\n",
        "XGB_probs = model_XGB.predict_proba(train[FEATS])\r\n",
        "\r\n",
        "# keep probabilities for the positive outcome only\r\n",
        "XGB_probs = XGB_probs[:, 1]\r\n",
        "\r\n",
        "# calculate scores\r\n",
        "XGB_auc = roc_auc_score(train[TARGET], XGB_probs)\r\n",
        "\r\n",
        "# result print\r\n",
        "print('XGBoost: ROC AUC = %.3f' % (XGB_auc * 100))\r\n",
        "\r\n",
        "params1 = {\r\n",
        "    'max_depth' : 7,\r\n",
        "   # 'max_leaves' : 2**4,\r\n",
        "    'alpha':0.1, \r\n",
        "   # 'lambda' : 0.17,\r\n",
        "    'min_child_weight ':2,\r\n",
        "    'subsample':0.7,\r\n",
        "    'tree_method' : 'gpu_hist',\r\n",
        "    'learning_rate': 0.1, #default = 0.3,\r\n",
        "    'colsample_bytree':0.7,\r\n",
        "    'eval_metric':'auc', \r\n",
        "    'objective' : 'binary:logistic',\r\n",
        "    'grow_policy' : 'lossguide',\r\n",
        "    'n_estimators':200\r\n",
        "}\r\n",
        "\r\n",
        "train_matrix = xgboost.DMatrix(data = train[FEATS], label =  train[TARGET])\r\n",
        "test_matrix=xgboost.DMatrix(data = valid[FEATS])\r\n",
        "xgb = xgboost.train(params1, dtrain = train_matrix)\r\n",
        "\r\n",
        "predicts = xgb.predict(test_matrix)\r\n",
        "roc = roc_auc_score(valid[TARGET].astype('int32'), predicts)\r\n",
        "print('ROC for XGBoost model')\r\n",
        "print(roc)\r\n",
        "\r\n",
        "plot_importance(xgb)\"\"\"\r\n",
        "\r\n",
        "from sklearn.metrics import roc_auc_score\r\n",
        " \r\n",
        "FEATS = ['row_id', 'user_id', 'content_id', 'content_type_id',\r\n",
        "       'prior_question_elapsed_time',\r\n",
        "       'prior_question_had_explanation', 'answered_correctly_sum_u', 'count_u',\r\n",
        "       'answered_correctly_avg_u', 'answered_correctly_avg_c',\r\n",
        "       'prior_question_elapsed_time_mean', 'question_id', 'part']\r\n",
        " \r\n",
        "TARGET = ['answered_correctly']\r\n",
        " \r\n",
        "X_train = train[FEATS]\r\n",
        "y_train = train[TARGET]\r\n",
        "X_valid = valid[FEATS]\r\n",
        "y_valid = valid[TARGET]\r\n",
        "\r\n",
        "\r\n",
        "import xgboost\r\n",
        "from xgboost import XGBClassifier\r\n",
        "from xgboost import plot_importance\r\n",
        "\r\n",
        "params = {\r\n",
        "    'max_depth' : 12,\r\n",
        "    'max_leaves' : 2**8,\r\n",
        "    'eta':0.6,  # Step size shrinkage used in update to prevents overfitting\r\n",
        "                # After each boosting step, we can directly get the weights of \r\n",
        "    # new features, and eta shrinks the feature weights to make the boosting \r\n",
        "    # process more conservative.\r\n",
        "    'alpha':0.1,     # L1 regularization term on weights. \r\n",
        "    'lambda' : 0.2,  # L2 regularization term on weights. \r\n",
        "                     # Increasing this value will make model more conservative.\r\n",
        "    'min_child_weight':1,\r\n",
        "    'subsample':0.8,  # default = 1, Subsample ratio of the training instances. \r\n",
        "                      # Setting it to 0.5 means that XGBoost would randomly \r\n",
        "                      # sample half of the training data prior to growing trees.\r\n",
        "                      # l prevent overfitting. \r\n",
        "                      # Subsampling will occur once in every boosting iteration.\r\n",
        "    'tree_method' : 'gpu_hist',\r\n",
        "    'learning_rate': 0.5, #default = 0.3,\r\n",
        "    'colsample_bytree':0.7, # is the subsample ratio of columns when constructing each tree. \r\n",
        "                            # Subsampling occurs once for every tree constructed.\r\n",
        "    'eval_metric':'auc', \r\n",
        "    'objective' : 'binary:logistic',\r\n",
        "    'sample_type': 'weighted',\r\n",
        "    'grow_policy' : 'lossguide',\r\n",
        "    'n_estimators': 200,\r\n",
        "    'normalize_type': 'tree',\r\n",
        "    'rate_drop': 0.2,    # dropout rate \r\n",
        "    'skip_drop': 0.1,    # probability of skipping dropout (If a dropout is \r\n",
        "                         # skipped, new trees are added in the same manner as gbtree.)\r\n",
        "    'feature_selector':'thrifty',  # This operation is multithreaded and is a \r\n",
        "    # linear complexity approximation of the quadratic greedy selection. \r\n",
        "    'deterministic_histogram': 'true',  # Histogram building is not deterministic \r\n",
        "    # due to the non-associative aspect of floating point summation. We employ a \r\n",
        "    # pre-rounding routine to mitigate the issue, which may lead to slightly lower \r\n",
        "    # accuracy\r\n",
        "    # 'booster' : 'dart'\r\n",
        "    'single_precision_histogram':'true', # single precision to build histograms instead of double precision\r\n",
        "    'sampling_method':'gradient_based', # only supported when tree_method is set to gpu_hist    \r\n",
        "    'predictor': 'gpu_predictor'\r\n",
        "\r\n",
        "}\r\n",
        "\r\n",
        "num_round = 50\r\n",
        "train_matrix = xgboost.DMatrix(data = train[FEATS], label =  train[TARGET])\r\n",
        "test_matrix = xgboost.DMatrix(data = valid[FEATS])\r\n",
        "xgb = xgboost.train(params, dtrain = train_matrix)\r\n",
        "\r\n",
        "predicts = xgb.predict(test_matrix, ntree_limit=num_round)\r\n",
        "roc = roc_auc_score(valid[TARGET].astype('int32'), predicts)\r\n",
        "print('ROC for XGBoost model')\r\n",
        "print(roc)\r\n",
        "plot_importance(xgb)"
      ],
      "execution_count": null,
      "outputs": [
        {
          "output_type": "stream",
          "text": [
            "ROC for XGBoost model\n",
            "0.7618490744824115\n"
          ],
          "name": "stdout"
        },
        {
          "output_type": "execute_result",
          "data": {
            "text/plain": [
              "<matplotlib.axes._subplots.AxesSubplot at 0x7fdb0c26ffd0>"
            ]
          },
          "metadata": {
            "tags": []
          },
          "execution_count": 18
        },
        {
          "output_type": "display_data",
          "data": {
            "image/png": "[encoded data removed]",
            "text/plain": [
              "<Figure size 432x288 with 1 Axes>"
            ]
          },
          "metadata": {
            "tags": [],
            "needs_background": "light"
          }
        }
      ]
    }
  ]
}